{
 "cells": [
  {
   "cell_type": "code",
   "execution_count": null,
   "metadata": {},
   "outputs": [],
   "source": [
    "print(\"Hello world.\")"
   ]
  },
  {
   "cell_type": "markdown",
   "metadata": {},
   "source": [
    "# Hello. This is just a comment.\n",
    "''' This\n",
    "is multiple\n",
    "line \n",
    "comment '''\n"
   ]
  },
  {
   "cell_type": "markdown",
   "metadata": {},
   "source": [
    "# Multiple line statements\n"
   ]
  },
  {
   "cell_type": "markdown",
   "metadata": {},
   "source": [
    "# Numbers in Python"
   ]
  },
  {
   "cell_type": "code",
   "execution_count": null,
   "metadata": {},
   "outputs": [],
   "source": [
    "# Exampple of multiple line statements\n",
    "sum = 1+2+3 \\\n",
    "    + 4+5   \\\n",
    "        +6\n",
    "print(sum)\n",
    "\n",
    "# If we want to write multiple statements in a single line, we proceed as follows:\n",
    "\n",
    "a = 1\n",
    "b = 3\n",
    "c = 100\n",
    "\n",
    "# We can also write this as follows - in a single line - we use a semicolon(;)\n",
    "\n",
    "x = 2; y = 22; z = 222;\n",
    "print(a+b+c)\n",
    "print(x+y+z)\n"
   ]
  },
  {
   "cell_type": "code",
   "execution_count": null,
   "metadata": {},
   "outputs": [],
   "source": [
    "x = 5.5\n",
    "y = 4.5\n",
    "print(x, \"*\", y, \"=\", x*y)"
   ]
  },
  {
   "cell_type": "markdown",
   "metadata": {},
   "source": [
    "# Integers"
   ]
  },
  {
   "cell_type": "code",
   "execution_count": null,
   "metadata": {},
   "outputs": [],
   "source": [
    "type(-3)\n",
    "\n",
    "# 5.5 is not an integer-type object.\n",
    "isinstance(5.5, int) #isinstance retruns if an object belongs to a class or a subclass. In this case, it tests if 5.5 is an integer or not. It returns False.\n"
   ]
  },
  {
   "cell_type": "code",
   "execution_count": null,
   "metadata": {},
   "outputs": [],
   "source": [
    "# Converting a string to an integer\n",
    "int(\"10\") #This converts the number into an integer.\n"
   ]
  },
  {
   "cell_type": "code",
   "execution_count": null,
   "metadata": {},
   "outputs": [],
   "source": [
    "# Converting a floating-point number to an integer\n",
    "int(1.3)"
   ]
  },
  {
   "cell_type": "code",
   "execution_count": null,
   "metadata": {},
   "outputs": [],
   "source": [
    "# example of floating point numbers\n",
    "2/3"
   ]
  },
  {
   "cell_type": "code",
   "execution_count": null,
   "metadata": {},
   "outputs": [],
   "source": [
    "type(-5.1)"
   ]
  },
  {
   "cell_type": "code",
   "execution_count": null,
   "metadata": {},
   "outputs": [],
   "source": [
    "# the integer 20 is not a float-type object\n",
    "isinstance(20, float)"
   ]
  },
  {
   "cell_type": "code",
   "execution_count": null,
   "metadata": {},
   "outputs": [],
   "source": [
    "# adding a decimal point to a number makes it a float-type object\n",
    "isinstance(20., float)"
   ]
  },
  {
   "cell_type": "code",
   "execution_count": null,
   "metadata": {},
   "outputs": [],
   "source": [
    "# Converting a string to a floating - type number\n",
    "float(\"20.123\")\n"
   ]
  },
  {
   "cell_type": "code",
   "execution_count": null,
   "metadata": {},
   "outputs": [],
   "source": [
    "# Converting an integer to a floating - type number\n",
    "float(-20)"
   ]
  },
  {
   "cell_type": "markdown",
   "metadata": {},
   "source": [
    "# Increment statements\n",
    "'''\n",
    "Statement   Result\n",
    "x += n      x = x+n\n",
    "x -= n      x = x-n\n",
    "x *= n      x = x*n\n",
    "x /= n      x = x/n\n",
    "x//= n      x = x//n\n",
    "x**= n      x = x**n\n",
    "'''"
   ]
  },
  {
   "cell_type": "code",
   "execution_count": null,
   "metadata": {},
   "outputs": [],
   "source": [
    "# Increment by 1\n",
    "a = 3\n",
    "a = a + 1\n",
    "print(\"a is increased by 1: \", a)"
   ]
  },
  {
   "cell_type": "markdown",
   "metadata": {},
   "source": [
    "# Logical Operators\n",
    "\n",
    "'''\n",
    "Operator    Symbol\n",
    "and         &\n",
    "or          |\n",
    "not         not\n",
    "'''"
   ]
  },
  {
   "cell_type": "code",
   "execution_count": null,
   "metadata": {},
   "outputs": [],
   "source": [
    "# Demonstrating logical operators\n",
    "print(True or False)\n",
    "print(True and False)\n",
    "print(not False)\n",
    "\n",
    "\n",
    "# Multiple logical operators can be used in a sinle line and parentheses can be used to group expressions:\n",
    "print(\"(True or False) and True : \", (True or False) and True)\n",
    "\n",
    "# Comparison statement returns boolean objects\n",
    "print(\"2 is less than 3: \", 2 < 3)\n",
    "print(\"5 is less than 4: \", 5 < 4)"
   ]
  },
  {
   "cell_type": "code",
   "execution_count": null,
   "metadata": {},
   "outputs": [],
   "source": [
    "# The and operator\n",
    "x = True\n",
    "y = False\n",
    "print(x and y)\n",
    "\n",
    "a = True\n",
    "b = True\n",
    "print(a and b)\n",
    "\n",
    "# The and operator returns true if all its operands are true. Otherwise it returns false."
   ]
  },
  {
   "cell_type": "code",
   "execution_count": null,
   "metadata": {},
   "outputs": [],
   "source": [
    "# The or operator\n",
    "x = True\n",
    "y = False\n",
    "print(x or y)\n",
    "\n",
    "a = True\n",
    "b = True\n",
    "print(a or b)\n",
    "\n",
    "# The or operator returns true if at least one of its operands is true. Otherwise it returns false.\n",
    "\n",
    "c = False\n",
    "d = False\n",
    "print(c or d) # Returns False."
   ]
  },
  {
   "cell_type": "code",
   "execution_count": 32,
   "metadata": {},
   "outputs": [
    {
     "name": "stdout",
     "output_type": "stream",
     "text": [
      "False\n"
     ]
    }
   ],
   "source": [
    "# not operator\n",
    "x = True\n",
    "print(not x)\n",
    "\n",
    "# The not operator returns the opposite of its operand. In this case, it returns false."
   ]
  }
 ],
 "metadata": {
  "kernelspec": {
   "display_name": "Python 3",
   "language": "python",
   "name": "python3"
  },
  "language_info": {
   "codemirror_mode": {
    "name": "ipython",
    "version": 3
   },
   "file_extension": ".py",
   "mimetype": "text/x-python",
   "name": "python",
   "nbconvert_exporter": "python",
   "pygments_lexer": "ipython3",
   "version": "3.12.0"
  }
 },
 "nbformat": 4,
 "nbformat_minor": 2
}
