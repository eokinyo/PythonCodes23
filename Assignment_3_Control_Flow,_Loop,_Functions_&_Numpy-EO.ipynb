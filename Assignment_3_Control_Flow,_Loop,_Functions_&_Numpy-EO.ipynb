{
  "nbformat": 4,
  "nbformat_minor": 0,
  "metadata": {
    "kernelspec": {
      "display_name": "Python 3",
      "language": "python",
      "name": "python3"
    },
    "language_info": {
      "codemirror_mode": {
        "name": "ipython",
        "version": 3
      },
      "file_extension": ".py",
      "mimetype": "text/x-python",
      "name": "python",
      "nbconvert_exporter": "python",
      "pygments_lexer": "ipython3",
      "version": "3.7.3"
    },
    "colab": {
      "provenance": []
    }
  },
  "cells": [
    {
      "cell_type": "markdown",
      "metadata": {
        "id": "bDes99ZUJEXs"
      },
      "source": [
        "# Assignment 3 - Control Flow, Loop, Numpy & Function\n",
        "Basics of Data Analysis <br>\n",
        "Total Points 26 <br>\n",
        "To pass you need to get atleast 14 points"
      ]
    },
    {
      "cell_type": "markdown",
      "metadata": {
        "id": "sXqcXpf4JBSl"
      },
      "source": [
        "1. Write a program that prompts students to provide their total points (0 -100) and check with the following conidtions: (5 Points) <br>\n",
        "\n",
        "* if total point is greater than or equal to 85 then the grade is 5\n",
        "* if total point is greater than or equal to 75 then the grade is 4\n",
        "* if total point is greater than or equal to 65 then the grade is 3\n",
        "* if total point is greater than or equal to 55 then the grade is 2\n",
        "* if total point is greater than or equal to 45 then the grade is 1\n",
        "* if total point is less than 45 then the grade is 0\n",
        "\n",
        "(Use IF statement)\n"
      ]
    },
    {
      "cell_type": "code",
      "metadata": {
        "id": "WnrK1m8FJBSm",
        "outputId": "45666334-a7a9-4576-cf68-f09c9daba146",
        "colab": {
          "base_uri": "https://localhost:8080/"
        }
      },
      "source": [
        "#ask user to input point - check example just below this cell if you do not know how to get input from the user.\n",
        "total_point = int(input(\"Enter your points: \"))\n",
        "# Write conditions to check and output the grade based on point\n",
        "\n",
        "if total_point >= 85:\n",
        "  grade = 5\n",
        "elif total_point >= 75:\n",
        "  grade = 4\n",
        "elif total_point >= 65:\n",
        "  grade = 3\n",
        "elif total_point >= 55:\n",
        "  grade = 2\n",
        "elif total_point >= 45:\n",
        "  grade = 1\n",
        "else:\n",
        "  grade = 0\n",
        "\n",
        "print(\"Your total grade is: \", grade)\n",
        "\n",
        "\n",
        "\n"
      ],
      "execution_count": 16,
      "outputs": [
        {
          "output_type": "stream",
          "name": "stdout",
          "text": [
            "Enter your points: 88\n",
            "Your total grade is:  5\n"
          ]
        }
      ]
    },
    {
      "cell_type": "markdown",
      "metadata": {
        "id": "hsmmFdowJBSp"
      },
      "source": [
        "2. Write a  program that asks used to input a number and create the multiplication table (from 1 to 10) of a number.(Use For) The output should be as below for an inputted number: (5 Points) <br>\n",
        "5 * 1 = 5 <br>\n",
        "5 * 2 = 10<br>\n",
        "...<br>\n",
        "...<br>\n",
        "...<br>\n",
        "5 * 10 = 50"
      ]
    },
    {
      "cell_type": "code",
      "metadata": {
        "id": "qWFK9S4gJBSp",
        "outputId": "13e7dc3e-b23c-40a5-960e-b25376096ea7",
        "colab": {
          "base_uri": "https://localhost:8080/",
          "height": 390
        }
      },
      "source": [
        "# get input from the user\n",
        "num1 = int(input(\"Input a number: \"))\n",
        "# print multiplication table for the number\n",
        "\n",
        "print(f\"Multiplication table for {num1}:\")\n",
        "for i in range(1, 11):\n",
        "    result = num1 * i\n",
        "    print(f\"{num1} * {i} = {result}\")\n",
        "\n"
      ],
      "execution_count": 17,
      "outputs": [
        {
          "output_type": "error",
          "ename": "KeyboardInterrupt",
          "evalue": "ignored",
          "traceback": [
            "\u001b[0;31m---------------------------------------------------------------------------\u001b[0m",
            "\u001b[0;31mKeyboardInterrupt\u001b[0m                         Traceback (most recent call last)",
            "\u001b[0;32m<ipython-input-17-5cafd96fd95d>\u001b[0m in \u001b[0;36m<cell line: 2>\u001b[0;34m()\u001b[0m\n\u001b[1;32m      1\u001b[0m \u001b[0;31m# get input from the user\u001b[0m\u001b[0;34m\u001b[0m\u001b[0;34m\u001b[0m\u001b[0m\n\u001b[0;32m----> 2\u001b[0;31m \u001b[0mnum1\u001b[0m \u001b[0;34m=\u001b[0m \u001b[0mint\u001b[0m\u001b[0;34m(\u001b[0m\u001b[0minput\u001b[0m\u001b[0;34m(\u001b[0m\u001b[0;34m\"Input a number: \"\u001b[0m\u001b[0;34m)\u001b[0m\u001b[0;34m)\u001b[0m\u001b[0;34m\u001b[0m\u001b[0;34m\u001b[0m\u001b[0m\n\u001b[0m\u001b[1;32m      3\u001b[0m \u001b[0;31m# print multiplication table for the number\u001b[0m\u001b[0;34m\u001b[0m\u001b[0;34m\u001b[0m\u001b[0m\n\u001b[1;32m      4\u001b[0m \u001b[0;34m\u001b[0m\u001b[0m\n\u001b[1;32m      5\u001b[0m \u001b[0mprint\u001b[0m\u001b[0;34m(\u001b[0m\u001b[0;34mf\"Multiplication table for {num1}:\"\u001b[0m\u001b[0;34m)\u001b[0m\u001b[0;34m\u001b[0m\u001b[0;34m\u001b[0m\u001b[0m\n",
            "\u001b[0;32m/usr/local/lib/python3.10/dist-packages/ipykernel/kernelbase.py\u001b[0m in \u001b[0;36mraw_input\u001b[0;34m(self, prompt)\u001b[0m\n\u001b[1;32m    849\u001b[0m                 \u001b[0;34m\"raw_input was called, but this frontend does not support input requests.\"\u001b[0m\u001b[0;34m\u001b[0m\u001b[0;34m\u001b[0m\u001b[0m\n\u001b[1;32m    850\u001b[0m             )\n\u001b[0;32m--> 851\u001b[0;31m         return self._input_request(str(prompt),\n\u001b[0m\u001b[1;32m    852\u001b[0m             \u001b[0mself\u001b[0m\u001b[0;34m.\u001b[0m\u001b[0m_parent_ident\u001b[0m\u001b[0;34m,\u001b[0m\u001b[0;34m\u001b[0m\u001b[0;34m\u001b[0m\u001b[0m\n\u001b[1;32m    853\u001b[0m             \u001b[0mself\u001b[0m\u001b[0;34m.\u001b[0m\u001b[0m_parent_header\u001b[0m\u001b[0;34m,\u001b[0m\u001b[0;34m\u001b[0m\u001b[0;34m\u001b[0m\u001b[0m\n",
            "\u001b[0;32m/usr/local/lib/python3.10/dist-packages/ipykernel/kernelbase.py\u001b[0m in \u001b[0;36m_input_request\u001b[0;34m(self, prompt, ident, parent, password)\u001b[0m\n\u001b[1;32m    893\u001b[0m             \u001b[0;32mexcept\u001b[0m \u001b[0mKeyboardInterrupt\u001b[0m\u001b[0;34m:\u001b[0m\u001b[0;34m\u001b[0m\u001b[0;34m\u001b[0m\u001b[0m\n\u001b[1;32m    894\u001b[0m                 \u001b[0;31m# re-raise KeyboardInterrupt, to truncate traceback\u001b[0m\u001b[0;34m\u001b[0m\u001b[0;34m\u001b[0m\u001b[0m\n\u001b[0;32m--> 895\u001b[0;31m                 \u001b[0;32mraise\u001b[0m \u001b[0mKeyboardInterrupt\u001b[0m\u001b[0;34m(\u001b[0m\u001b[0;34m\"Interrupted by user\"\u001b[0m\u001b[0;34m)\u001b[0m \u001b[0;32mfrom\u001b[0m \u001b[0;32mNone\u001b[0m\u001b[0;34m\u001b[0m\u001b[0;34m\u001b[0m\u001b[0m\n\u001b[0m\u001b[1;32m    896\u001b[0m             \u001b[0;32mexcept\u001b[0m \u001b[0mException\u001b[0m \u001b[0;32mas\u001b[0m \u001b[0me\u001b[0m\u001b[0;34m:\u001b[0m\u001b[0;34m\u001b[0m\u001b[0;34m\u001b[0m\u001b[0m\n\u001b[1;32m    897\u001b[0m                 \u001b[0mself\u001b[0m\u001b[0;34m.\u001b[0m\u001b[0mlog\u001b[0m\u001b[0;34m.\u001b[0m\u001b[0mwarning\u001b[0m\u001b[0;34m(\u001b[0m\u001b[0;34m\"Invalid Message:\"\u001b[0m\u001b[0;34m,\u001b[0m \u001b[0mexc_info\u001b[0m\u001b[0;34m=\u001b[0m\u001b[0;32mTrue\u001b[0m\u001b[0;34m)\u001b[0m\u001b[0;34m\u001b[0m\u001b[0;34m\u001b[0m\u001b[0m\n",
            "\u001b[0;31mKeyboardInterrupt\u001b[0m: Interrupted by user"
          ]
        }
      ]
    },
    {
      "cell_type": "markdown",
      "metadata": {
        "id": "40LCjQ5GJBSu"
      },
      "source": [
        "3. Write a program using Numpy to generate and print 5 random number between 1 & 10 (Hints: random.randint) (3 Points)"
      ]
    },
    {
      "cell_type": "code",
      "metadata": {
        "id": "OAo0XkuMJBSu",
        "outputId": "900db5b9-accc-49f2-e21f-d33a6d19ac6f",
        "colab": {
          "base_uri": "https://localhost:8080/"
        }
      },
      "source": [
        "\n",
        "\n",
        "# Generate 5 random numbers between 1 and 10\n",
        "nums = np.random.randint(1, 11, size=5)\n",
        "\n",
        "# Print the generated numbers\n",
        "print(nums)"
      ],
      "execution_count": 5,
      "outputs": [
        {
          "output_type": "stream",
          "name": "stdout",
          "text": [
            "[5 7 2 1 5]\n"
          ]
        }
      ]
    },
    {
      "cell_type": "markdown",
      "source": [
        "4. Calculate the mean, media, mode and standard deviation of an array using Numpy. (5 Points)"
      ],
      "metadata": {
        "id": "XIvigqsPNLCd"
      }
    },
    {
      "cell_type": "code",
      "source": [
        "# create a numpy array named numpy_yourfirstName that includes 10 numbers.\n",
        "import numpy as np\n",
        "\n",
        "numpy_elly = np.array([4, 2, 3, 4, 5, 6, 7, 4, 9, 10])\n",
        "# create 4 different variables to store mean, median, mode and standard deviation\n",
        "myMean = np.mean(numpy_elly)\n",
        "myMedian = np.median(numpy_elly)\n",
        "\n",
        "\n",
        "\n",
        "\n",
        "# print each value in a new line that is:  The Mean is .... The median is .... The mode is .... The standard deviation is ......\n",
        "print(\"The Mean is \", myMean)\n",
        "print(\"The median is \", myMedian)\n"
      ],
      "metadata": {
        "id": "ynrLI9mzNagz",
        "outputId": "2dbd9f8e-a820-44d5-9b53-6723549daa66",
        "colab": {
          "base_uri": "https://localhost:8080/"
        }
      },
      "execution_count": 15,
      "outputs": [
        {
          "output_type": "stream",
          "name": "stdout",
          "text": [
            "The Mean is  5.4\n",
            "The median is  4.5\n"
          ]
        }
      ]
    },
    {
      "cell_type": "markdown",
      "source": [
        "5. Generate a numpy array of evenly spaced values from 0 to 10 in increments of 2. Hint: np.arrage (2 Points)"
      ],
      "metadata": {
        "id": "07anGnr_OmXt"
      }
    },
    {
      "cell_type": "code",
      "source": [
        "# create an array of values from 0 to 10 in increments of 2\n",
        "import numpy as np\n",
        "\n",
        "myArray = np.arange(0, 11, 2)\n",
        "\n",
        "# print\n",
        "print(myArray)"
      ],
      "metadata": {
        "id": "qfSAul28PGzY",
        "outputId": "9bf06d50-4d4b-4347-dccf-62d273de7316",
        "colab": {
          "base_uri": "https://localhost:8080/"
        }
      },
      "execution_count": 18,
      "outputs": [
        {
          "output_type": "stream",
          "name": "stdout",
          "text": [
            "[ 0  2  4  6  8 10]\n"
          ]
        }
      ]
    },
    {
      "cell_type": "markdown",
      "source": [
        "6. Find the maximum and minimum values in an array. (2 Points)"
      ],
      "metadata": {
        "id": "C8GuYXrGPXT1"
      }
    },
    {
      "cell_type": "code",
      "source": [
        "import pandas as pd\n",
        "import numpy as np\n",
        "myarray = np.array([12,13,11,5,6,7,8,9,100, 223])\n",
        "# create two variables to store max and minimum values from the above array\n",
        "min_value = myarray.min()\n",
        "max_value = myarray.max()\n",
        "# Print the maximum and minimum values\n",
        "\n",
        "print(\"The maximum value is: \", max_value)\n",
        "print(\"The minimum value is: \", min_value)"
      ],
      "metadata": {
        "id": "VvL-Pw04PdrZ",
        "outputId": "cb6775af-b832-40f9-d164-8616802d0bb8",
        "colab": {
          "base_uri": "https://localhost:8080/"
        }
      },
      "execution_count": 21,
      "outputs": [
        {
          "output_type": "stream",
          "name": "stdout",
          "text": [
            "The maximum value is:  223\n",
            "The minimum value is:  5\n"
          ]
        }
      ]
    },
    {
      "cell_type": "markdown",
      "source": [
        "7. Create a simple function to calculate the area of a rectangle. (4 points)"
      ],
      "metadata": {
        "id": "pPAskwm_QUXF"
      }
    },
    {
      "cell_type": "code",
      "source": [
        "length = 5.5\n",
        "width = 6.5\n",
        "\n",
        "# Create the function to get the area of the rectangle that is area = length * width\n",
        "def area(length, width):\n",
        "    results = length * width\n",
        "    return results\n",
        "\n",
        "# Check below if you do not know how to create function in python\n",
        "\n",
        "\n",
        "# Call the function and print the aread of the rectangle.\n",
        "calcArea = area(length, width)\n",
        "print(\"The area of the rectangle is \", calcArea)"
      ],
      "metadata": {
        "id": "ShU-5cH5QdRc",
        "outputId": "0223ece1-8c31-47e3-a050-308c8c5b85d9",
        "colab": {
          "base_uri": "https://localhost:8080/"
        }
      },
      "execution_count": 17,
      "outputs": [
        {
          "output_type": "stream",
          "name": "stdout",
          "text": [
            "The area of the rectangle is  35.75\n"
          ]
        }
      ]
    }
  ]
}