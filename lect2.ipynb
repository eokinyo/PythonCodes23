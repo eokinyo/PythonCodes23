{
 "cells": [
  {
   "cell_type": "code",
   "execution_count": null,
   "metadata": {},
   "outputs": [],
   "source": [
    "name = \"Elly\" # This is how to declare a String variable.\n",
    "num = 6.6 # This is how to declare a number variable. In this case, the number is floating type.\n",
    "num1 = 23\n",
    "print(name, num, num1) # This prints the variables we have created.\n",
    "# Creating multiple variables with values assigned to them:\n",
    "num2, num3, num4, num5 = 1, 2, 3, 4\n",
    "print(num2, num3, num4, num5)"
   ]
  },
  {
   "cell_type": "markdown",
   "metadata": {},
   "source": [
    "# Data Types\n",
    "## Dictionary - is a combination of keys and values. For example, we can have a key called name and value as John. See example under dict."
   ]
  },
  {
   "cell_type": "code",
   "execution_count": null,
   "metadata": {},
   "outputs": [],
   "source": [
    "#getting the data type\n",
    "a = 5\n",
    "\n",
    "#list\n",
    "list1 = [1, 3, 55, \"Helsinki\", \"Kenia\", \"String\"]\n",
    "print(type(list1))\n",
    "\n",
    "# Create variable called name and assign your name to it.\n",
    "# Check the data type'\n",
    "\n",
    "name = \"Elly\"\n",
    "print(type(name))"
   ]
  },
  {
   "cell_type": "markdown",
   "metadata": {},
   "source": [
    "# Numbers"
   ]
  },
  {
   "cell_type": "code",
   "execution_count": null,
   "metadata": {},
   "outputs": [],
   "source": [
    "num = 5\n",
    "num1 = 3\n",
    "result = num + num1\n",
    "print(result) # Or\n",
    "print(num + num1)"
   ]
  },
  {
   "cell_type": "markdown",
   "metadata": {},
   "source": [
    "# Boolean"
   ]
  },
  {
   "cell_type": "code",
   "execution_count": null,
   "metadata": {},
   "outputs": [],
   "source": [
    "name = \"Aino Salmi\"\n",
    "name.isalnum() #To check if it is alpha-numeric string\n",
    "\n",
    "#islower\n",
    "name.islower()\n",
    "\n",
    "#isalpha\n",
    "name.isalpha()\n"
   ]
  },
  {
   "cell_type": "markdown",
   "metadata": {},
   "source": [
    "# None- Type\n",
    "## The NoneType has exactly one object and is used to represent null which means nothing.\n",
    "### type(None)"
   ]
  },
  {
   "cell_type": "code",
   "execution_count": null,
   "metadata": {},
   "outputs": [],
   "source": [
    "# Example of the use of None\n",
    "large_num = None\n",
    "\n",
    "for number in [1, 2, 3, 4]:\n",
    "    if number > 10:\n",
    "        large_num = number\n",
    "        print(\"The large number is \", large_num)\n",
    "        break #This ends the execution of the loop. For example, if there are two numbers that are greater than 10, the program stops after printing the first large number.\n",
    "\n",
    "if large_num is None:\n",
    "    print(\"The list did not contain any number larger than 10\")"
   ]
  },
  {
   "cell_type": "markdown",
   "metadata": {},
   "source": [
    "# String"
   ]
  },
  {
   "cell_type": "code",
   "execution_count": null,
   "metadata": {},
   "outputs": [],
   "source": [
    "print(\"This is string\")\n",
    "mystring = \"Hello World\"\n",
    "print (mystring)\n",
    "#String contains a sequence of characters,\n",
    "# it is possible to access individual characters\n",
    "print (mystring[0]) #prints the first character\n",
    "print (mystring[0:3])\n",
    "print (mystring[2:4]) #prints the third and 4th character\n",
    "print (mystring[2:]) #prints third character onward\n",
    "print (mystring * 2) #prints two times, repitition\n",
    "print (mystring + \" & deepak kc\") #adds my string to deepak kc"
   ]
  },
  {
   "cell_type": "code",
   "execution_count": null,
   "metadata": {},
   "outputs": [],
   "source": [
    "print(\"Hello world.\", \"This is interesting. \" + mystring)"
   ]
  },
  {
   "cell_type": "markdown",
   "metadata": {},
   "source": [
    "# Lists"
   ]
  },
  {
   "cell_type": "code",
   "execution_count": null,
   "metadata": {},
   "outputs": [],
   "source": [
    "# List\n",
    "\n",
    "list1 = [1, \"Hellow World\", 2, 2.5, 4, \"HAMK\"]\n",
    "print(list1) #This prints the entire list\n",
    "print(list1[1]) # This prints Hello world only because it is the second index on the list.\n",
    "print(list1[2:])\n",
    "print(list1[2:5]) # Prints up to the fourth character only.It does not include HAMK since HAMK is only the 5th index position.\n",
    "\n",
    "# Append: add an element\n",
    "list1.append(\"Hello\")\n",
    "print(list1)\n",
    "\n",
    "#insert\n",
    "list1.insert(0,\"Test!\")\n",
    "print(list1)\n",
    "\n",
    "# try and add something between 4 & HAMK\n",
    "list1.insert(6,\"Test\")\n",
    "print(list1)\n",
    "\n",
    "# Extend: adds multiple elements at the end of the list. It can also be used to combine lists.\n",
    "list1.extend([\"Karstula\", 60, 63, 85, \"Mummo\"])\n",
    "print(list1)"
   ]
  },
  {
   "cell_type": "markdown",
   "metadata": {},
   "source": [
    "# Tuples"
   ]
  },
  {
   "cell_type": "code",
   "execution_count": null,
   "metadata": {},
   "outputs": [],
   "source": [
    "tup1 = (\"name\", 5, \"HAMK\", \"Data Analysis\")\n",
    "print(tup1)\n",
    "\n",
    "# Print HAMK onwards, including HAMK\n",
    "\n",
    "print(tup1[2:])"
   ]
  },
  {
   "cell_type": "markdown",
   "metadata": {},
   "source": [
    "# Dictionary\n",
    "## Has a pair of values: a key and a value"
   ]
  },
  {
   "cell_type": "code",
   "execution_count": 29,
   "metadata": {},
   "outputs": [
    {
     "name": "stdout",
     "output_type": "stream",
     "text": [
      "{'name': 'Aino', 'age': 9}\n",
      "{0: 'Children', 1: 'Sari', 2: 'Aino'}\n",
      "{'Name': ('Aleksi', 'Samuli'), 'code': (3, 4)}\n"
     ]
    }
   ],
   "source": [
    "test = {\"name\":\"Aino\", \"age\": 9}\n",
    "print(test)\n",
    "\n",
    "test1 = {0: \"Children\", 1 : \"Sari\", 2: \"Aino\"}\n",
    "print(test1)\n",
    "\n",
    "test2 = {\"Name\":(\"Aleksi\", \"Samuli\"), \"code\":(3,4)}\n",
    "print(test2)"
   ]
  }
 ],
 "metadata": {
  "kernelspec": {
   "display_name": "Python 3",
   "language": "python",
   "name": "python3"
  },
  "language_info": {
   "codemirror_mode": {
    "name": "ipython",
    "version": 3
   },
   "file_extension": ".py",
   "mimetype": "text/x-python",
   "name": "python",
   "nbconvert_exporter": "python",
   "pygments_lexer": "ipython3",
   "version": "3.12.0"
  }
 },
 "nbformat": 4,
 "nbformat_minor": 2
}
