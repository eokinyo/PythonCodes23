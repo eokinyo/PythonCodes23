{
 "cells": [
  {
   "cell_type": "markdown",
   "metadata": {},
   "source": [
    "# Task 1: Create a string (name), an integer (num) and a floating point number (fnum). Assign your name to name, 25 to num and 56.78 to fnum. Print the output for all 3 variables. (6 points)"
   ]
  },
  {
   "cell_type": "code",
   "execution_count": null,
   "metadata": {},
   "outputs": [],
   "source": [
    "#name\n",
    "name = 'Elly'\n",
    "type(name)\n",
    "#num\n",
    "num = 25\n",
    "#fnum\n",
    "fnum = 56.78\n",
    "#print name\n",
    "print(name)\n",
    "#print num\n",
    "print(num)\n",
    "#print fnum\n",
    "print(fnum)"
   ]
  },
  {
   "cell_type": "markdown",
   "metadata": {},
   "source": [
    "# Task 2: Use the capitalize() method to convert the first character of a string to uppercase letter. (1 point)"
   ]
  },
  {
   "cell_type": "code",
   "execution_count": null,
   "metadata": {},
   "outputs": [],
   "source": [
    "mystring = \"this is getting interesting.\"\n",
    "mycaptial_string = mystring.capitalize() #use capitalize method\n",
    "#print the capitalized string\n",
    "print(mycaptial_string)\n"
   ]
  },
  {
   "cell_type": "markdown",
   "metadata": {},
   "source": [
    "# Task 3: The find() method returns the index of first occurence of the substring if it is found and if it does not find it returns -1. Use find() method to complete the code below. (1 point)"
   ]
  },
  {
   "cell_type": "code",
   "execution_count": null,
   "metadata": {},
   "outputs": [],
   "source": [
    "text = \"Python is an easy to learn language\"\n",
    "result = text.find(\"learn\") #find learn\n",
    "#print result\n",
    "print(result)"
   ]
  },
  {
   "cell_type": "markdown",
   "metadata": {},
   "source": [
    "# Task 4: It is possible to assign the same value to multiple variables at once in Python. Complete the code below. (1 point)"
   ]
  },
  {
   "cell_type": "code",
   "execution_count": null,
   "metadata": {},
   "outputs": [],
   "source": [
    "# create 3 variables a,b & c &\n",
    "# assign 1 as value to all variables in the same statement\n",
    "a = b = c = 1\n",
    "#print a\n",
    "print(a)\n",
    "#print b\n",
    "print(b)\n",
    "#print c\n",
    "print(c)"
   ]
  },
  {
   "cell_type": "markdown",
   "metadata": {},
   "source": [
    "# Task 5: Complete tasks as in the comment below (5 Points)"
   ]
  },
  {
   "cell_type": "code",
   "execution_count": null,
   "metadata": {},
   "outputs": [],
   "source": [
    "a = \"I like python\"\n",
    "print(len(a)) # use the len method to print the length of the string\n",
    "print(a[0]) # print the first character of the string\n",
    "print(a.upper()) # print the string in uppercase letters\n"
   ]
  },
  {
   "cell_type": "markdown",
   "metadata": {},
   "source": [
    "# Task 6: Create a list named mylist and include 5 different data items. (4 points)"
   ]
  },
  {
   "cell_type": "code",
   "execution_count": null,
   "metadata": {},
   "outputs": [],
   "source": [
    "mylist =  [1, \"omena\", 3.14, True, \"python\"] # it should contain 5 different data items\n",
    "print(mylist) # print the entire list\n",
    " \n",
    "print(mylist[1])# print only the second element\n",
    "mylist.append(\"new_item\") #use append to add one more item to your list\n",
    "print(mylist) #print the entire list\n"
   ]
  },
  {
   "cell_type": "markdown",
   "metadata": {},
   "source": [
    "# Task 7: Tuple (3 points)"
   ]
  },
  {
   "cell_type": "code",
   "execution_count": null,
   "metadata": {},
   "outputs": [],
   "source": [
    "courses = (\"Introduction to IoT & Cloud\", \"Python Basics for IoT\", \"Python Project\")\n",
    "print(len(courses)) #use len method to print the number of items(courses) in the tuple courses.\n",
    "print(courses) #print all items in the tuple courses\n",
    "print(courses[2]) #print the third item in the tuple\n"
   ]
  },
  {
   "cell_type": "markdown",
   "metadata": {},
   "source": [
    "# Task 8: Dictionary (5 points)"
   ]
  },
  {
   "cell_type": "code",
   "execution_count": null,
   "metadata": {},
   "outputs": [],
   "source": [
    "#create a dictionary with the key as course, time and ects\n",
    "    #values as Python Basics, Autumn, 5\n",
    "test = {\n",
    "    \"course\": \"Python Basics\",\n",
    "    \"time\": \"Autumn\",\n",
    "    \"ects\": 5\n",
    "}\n",
    "print(test.get(\"course\")) #use get method to print the value of the course\n",
    "test[\"course\"] = \"Python Basics for IoT\" #change the course value to Python Basics for IoT\n",
    "\n",
    "test[\"year\"] = 2019 #add the key/value pair as year:2019 to the test dictionary\n",
    "print(test) #print the entire dictionary\n",
    "\n",
    "\n"
   ]
  }
 ],
 "metadata": {
  "kernelspec": {
   "display_name": "Python 3",
   "language": "python",
   "name": "python3"
  },
  "language_info": {
   "codemirror_mode": {
    "name": "ipython",
    "version": 3
   },
   "file_extension": ".py",
   "mimetype": "text/x-python",
   "name": "python",
   "nbconvert_exporter": "python",
   "pygments_lexer": "ipython3",
   "version": "3.12.0"
  }
 },
 "nbformat": 4,
 "nbformat_minor": 2
}
