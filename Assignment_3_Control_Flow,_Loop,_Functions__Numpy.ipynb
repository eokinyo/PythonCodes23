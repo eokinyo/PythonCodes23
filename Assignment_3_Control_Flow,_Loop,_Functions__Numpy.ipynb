{
  "cells": [
    {
      "cell_type": "markdown",
      "metadata": {
        "id": "bDes99ZUJEXs"
      },
      "source": [
        "# Assignment 3 - Control Flow, Loop, Numpy & Function\n",
        "Basics of Data Analysis <br>\n",
        "Total Points 26 <br>\n",
        "To pass you need to get atleast 14 points"
      ]
    },
    {
      "cell_type": "markdown",
      "metadata": {
        "id": "sXqcXpf4JBSl"
      },
      "source": [
        "1. Write a program that prompts students to provide their total points (0 -100) and check with the following conidtions: (5 Points) <br>\n",
        "\n",
        "* if total point is greater than or equal to 85 then the grade is 5\n",
        "* if total point is greater than or equal to 75 then the grade is 4\n",
        "* if total point is greater than or equal to 65 then the grade is 3\n",
        "* if total point is greater than or equal to 55 then the grade is 2\n",
        "* if total point is greater than or equal to 45 then the grade is 1\n",
        "* if total point is less than 45 then the grade is 0\n",
        "\n",
        "(Use IF statement)\n"
      ]
    },
    {
      "cell_type": "code",
      "execution_count": 1,
      "metadata": {
        "colab": {
          "base_uri": "https://localhost:8080/"
        },
        "id": "WnrK1m8FJBSm",
        "outputId": "fffefd9a-5dd1-4727-f8b5-f80484cb3f59"
      },
      "outputs": [
        {
          "name": "stdout",
          "output_type": "stream",
          "text": [
            "Student Grade is = 0\n"
          ]
        }
      ],
      "source": [
        "#1.\n",
        "#ask user to input point - check example just below this cell if you do not know how to get input from the user.\n",
        "# Write conditions to check and output the grade based on point\n",
        "points = int (input(\"Input grade and press enter key \"))\n",
        "if 85 <= points <= 100:\n",
        "    print (\"Student Grade is = 5\")\n",
        "elif 75 <= points <85:\n",
        "    print (\"Student Grade is = 4\")\n",
        "elif 65 <= points < 75:\n",
        "    print (\"Student Grade is = 3\")\n",
        "elif 55 <= points < 65:\n",
        "    print (\"Student Grade is = 2\")\n",
        "elif 45 <= points < 55:\n",
        "    print (\"Student Grade is = 1\")\n",
        "else:\n",
        "    print (\"Student Grade is = 0\")"
      ]
    },
    {
      "cell_type": "code",
      "execution_count": null,
      "metadata": {
        "id": "tHOkAiBmIUQp"
      },
      "outputs": [],
      "source": [
        "# How to get input from the user in Python?\n",
        "# To get input from the user , you can use input() function which always returns a string\n",
        "# Example 1: String input from the user\n",
        "user_input = input(\"Enter your name: \")\n",
        "print(\"Your name is \", user_input)\n",
        "\n",
        "# Example 2: Number input from the user\n",
        "# To get numbers from the user, you will need to conver the user inputs by using functions like int() or float().\n",
        "\n",
        "# To get an integer input from the user\n",
        "age_input = int(input(\"Enter your Age: \"))\n",
        "print(\"You are \", age_input, \"years old.\")\n",
        "\n",
        "\n",
        "# To get a float input from the user\n",
        "height_input = float(input(\"Enter your height in cm: \"))\n",
        "print(\"Your height is \", height_input, \"CM\")"
      ]
    },
    {
      "cell_type": "markdown",
      "metadata": {
        "id": "hsmmFdowJBSp"
      },
      "source": [
        "2. Write a  program that asks used to input a number and create the multiplication table (from 1 to 10) of a number.(Use For) The output should be as below for an inputted number: (5 Points) <br>\n",
        "5 * 1 = 5 <br>\n",
        "5 * 2 = 10<br>\n",
        "...<br>\n",
        "...<br>\n",
        "...<br>\n",
        "5 * 10 = 50"
      ]
    },
    {
      "cell_type": "code",
      "execution_count": 2,
      "metadata": {
        "colab": {
          "base_uri": "https://localhost:8080/"
        },
        "id": "qWFK9S4gJBSp",
        "outputId": "a3db17cb-eff4-4847-8387-0ddbb221981d"
      },
      "outputs": [
        {
          "name": "stdout",
          "output_type": "stream",
          "text": [
            "3 * 1 = 3\n",
            "3 * 2 = 6\n",
            "3 * 3 = 9\n",
            "3 * 4 = 12\n",
            "3 * 5 = 15\n",
            "3 * 6 = 18\n",
            "3 * 7 = 21\n",
            "3 * 8 = 24\n",
            "3 * 9 = 27\n",
            "3 * 10 = 30\n"
          ]
        }
      ],
      "source": [
        "# get input from the user\n",
        "number = int(input(\"Enter a number: \"))\n",
        "\n",
        "# print multiplication table for the number\n",
        "for i in range(1, 11):\n",
        "   print(number, '*', i, '=', number*i)"
      ]
    },
    {
      "cell_type": "code",
      "execution_count": null,
      "metadata": {
        "id": "oYCaC7T_Mr59"
      },
      "outputs": [],
      "source": []
    },
    {
      "cell_type": "markdown",
      "metadata": {
        "id": "40LCjQ5GJBSu"
      },
      "source": [
        "3. Write a program using Numpy to generate and print 5 random number between 1 & 10 (Hints: random.randint) (3 Points)"
      ]
    },
    {
      "cell_type": "code",
      "execution_count": 3,
      "metadata": {
        "colab": {
          "base_uri": "https://localhost:8080/"
        },
        "id": "OAo0XkuMJBSu",
        "outputId": "61233205-90e6-4e45-8838-a00cd03ab4ca"
      },
      "outputs": [
        {
          "name": "stdout",
          "output_type": "stream",
          "text": [
            "[9 8 2 7 4]\n"
          ]
        }
      ],
      "source": [
        "import numpy as np\n",
        "\n",
        "# Generate 5 random numbers between 1 and 10\n",
        "random_numbers = np.random.randint(1, 10, size=5)\n",
        "\n",
        "# Print the generated numbers\n",
        "print(random_numbers)"
      ]
    },
    {
      "cell_type": "markdown",
      "metadata": {
        "id": "XIvigqsPNLCd"
      },
      "source": [
        "4. Calculate the mean, media, mode and standard deviation of an array using Numpy. (5 Points)"
      ]
    },
    {
      "cell_type": "code",
      "execution_count": 4,
      "metadata": {
        "colab": {
          "base_uri": "https://localhost:8080/"
        },
        "id": "ynrLI9mzNagz",
        "outputId": "5c0bc227-5ba6-4d31-983b-e49627db45a4"
      },
      "outputs": [
        {
          "name": "stdout",
          "output_type": "stream",
          "text": [
            "The mean of the array is:  5.5\n",
            "The median of the array is:  5.5\n",
            "The standard deviation of the array is:  2.8722813232690143\n"
          ]
        }
      ],
      "source": [
        "# create a numpy array named numpy_yourfirstName that includes 10 numbers.\n",
        "numpy_Yashodha = np.array([1, 2, 3, 4, 5, 6, 7, 8, 9, 10])\n",
        "\n",
        "# create 4 different variables to store mean, median, mode and standard deviation\n",
        "\n",
        "mean = np.mean(numpy_Yashodha)\n",
        "print(\"The mean of the array is: \", mean)\n",
        "\n",
        "median = np.median(numpy_Yashodha)\n",
        "print(\"The median of the array is: \", median)\n",
        "\n",
        "#mode\n",
        "\n",
        "standard_deviation = np.std(numpy_Yashodha)\n",
        "print(\"The standard deviation of the array is: \", standard_deviation)\n",
        "\n",
        "\n",
        "# print each value in a new line that is:  The Mean is .... The median is .... The mode is .... The standard deviation is ......"
      ]
    },
    {
      "cell_type": "markdown",
      "metadata": {
        "id": "07anGnr_OmXt"
      },
      "source": [
        "5. Generate a numpy array of evenly spaced values from 0 to 10 in increments of 2. Hint: np.arrage (2 Points)"
      ]
    },
    {
      "cell_type": "code",
      "execution_count": 5,
      "metadata": {
        "colab": {
          "base_uri": "https://localhost:8080/"
        },
        "id": "qfSAul28PGzY",
        "outputId": "ab845219-e4f6-4537-8986-6380f2963dff"
      },
      "outputs": [
        {
          "name": "stdout",
          "output_type": "stream",
          "text": [
            "[ 0  2  4  6  8 10]\n"
          ]
        }
      ],
      "source": [
        "import numpy as np\n",
        "# create an array of values from 0 to 10 in increments of 2\n",
        "even_array= np.arange(0, 11, 2)\n",
        "\n",
        "# print\n",
        "print(even_array)"
      ]
    },
    {
      "cell_type": "markdown",
      "metadata": {
        "id": "C8GuYXrGPXT1"
      },
      "source": [
        "6. Find the maximum and minimum values in an array. (2 Points)"
      ]
    },
    {
      "cell_type": "code",
      "execution_count": 6,
      "metadata": {
        "colab": {
          "base_uri": "https://localhost:8080/"
        },
        "id": "VvL-Pw04PdrZ",
        "outputId": "302e4e12-dfee-41a3-bf55-e09e18eeb7e6"
      },
      "outputs": [
        {
          "name": "stdout",
          "output_type": "stream",
          "text": [
            "Maximum value is :  223\n",
            "Minimum value is :  5\n"
          ]
        }
      ],
      "source": [
        "myarray = np.array([12,13,11,5,6,7,8,9,100, 223])\n",
        "# create two variables to store max and minimum values from the above array\n",
        "max_value = myarray.max()\n",
        "min_value = myarray.min()\n",
        "\n",
        "# Print the maximum and minimum values\n",
        "print('Maximum value is : ', max_value)\n",
        "print('Minimum value is : ', min_value)"
      ]
    },
    {
      "cell_type": "markdown",
      "metadata": {
        "id": "pPAskwm_QUXF"
      },
      "source": [
        "7. Create a simple function to calculate the area of a rectangle. (4 points)"
      ]
    },
    {
      "cell_type": "code",
      "execution_count": 7,
      "metadata": {
        "colab": {
          "base_uri": "https://localhost:8080/"
        },
        "id": "ShU-5cH5QdRc",
        "outputId": "a43e489d-0c90-4375-a9ff-8f4f5843d92c"
      },
      "outputs": [
        {
          "name": "stdout",
          "output_type": "stream",
          "text": [
            "Area of the rectangle: 35.75\n"
          ]
        }
      ],
      "source": [
        "# Create the function to get the area of the rectangle that is area = length * width\n",
        "# Check below if you do not know how to create function in python\n",
        "\n",
        "def calculate_area(length, width):\n",
        "  result = length * width\n",
        "  return result\n",
        "\n",
        "# Call the function and print the aread of the rectangle.\n",
        "length = 5.5\n",
        "width = 6.5\n",
        "\n",
        "area = calculate_area(5.5, 6.5)\n",
        "print(\"Area of the rectangle:\", area)\n"
      ]
    },
    {
      "cell_type": "code",
      "execution_count": null,
      "metadata": {
        "id": "I9-Csd3WIklM"
      },
      "outputs": [],
      "source": [
        "# You can create function in Python by using the 'def' keyword.\n",
        "\n",
        "#Syntax:\n",
        "\n",
        "# def function_name(parameters):\n",
        "#  your function\n",
        "\n",
        "#Example 1 : A simple function to add 2 numbers.\n",
        "\n",
        "# Creating a function\n",
        "def add_numbers(a, b):\n",
        "    result = a + b\n",
        "    return result\n",
        "\n",
        "# Calling the function\n",
        "sum_result = add_numbers(4, 5)\n",
        "print(\"Sum:\", sum_result)\n",
        "\n",
        "\n",
        "\n"
      ]
    }
  ],
  "metadata": {
    "colab": {
      "provenance": []
    },
    "kernelspec": {
      "display_name": "Python 3",
      "language": "python",
      "name": "python3"
    },
    "language_info": {
      "codemirror_mode": {
        "name": "ipython",
        "version": 3
      },
      "file_extension": ".py",
      "mimetype": "text/x-python",
      "name": "python",
      "nbconvert_exporter": "python",
      "pygments_lexer": "ipython3",
      "version": "3.12.0"
    }
  },
  "nbformat": 4,
  "nbformat_minor": 0
}
