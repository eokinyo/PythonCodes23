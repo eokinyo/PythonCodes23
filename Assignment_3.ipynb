{
  "cells": [
    {
      "cell_type": "code",
      "execution_count": 1,
      "metadata": {
        "colab": {
          "base_uri": "https://localhost:8080/"
        },
        "id": "y_ldfXQzmL_t",
        "outputId": "3a393ad9-4acc-4662-aff5-f68967622bcd"
      },
      "outputs": [
        {
          "name": "stdout",
          "output_type": "stream",
          "text": [
            "Your grade is: 3\n"
          ]
        }
      ],
      "source": [
        "#Task 1:\n",
        "\n",
        "# Ask user to input grade point\n",
        "total_point = int(input(\"Please input your total point: \"))\n",
        "\n",
        "# Check conditions and assign grades\n",
        "if total_point >= 85:\n",
        "    grade = 5\n",
        "elif total_point >= 75:\n",
        "    grade = 4\n",
        "elif total_point >= 65:\n",
        "    grade = 3\n",
        "elif total_point >= 55:\n",
        "    grade = 2\n",
        "elif total_point >= 45:\n",
        "    grade = 1\n",
        "else:\n",
        "    grade = 0\n",
        "\n",
        "# Display the result\n",
        "print(\"Your grade is: \" + str(grade))"
      ]
    },
    {
      "cell_type": "code",
      "execution_count": 2,
      "metadata": {
        "colab": {
          "base_uri": "https://localhost:8080/"
        },
        "id": "u-o9Pd6AnkSh",
        "outputId": "c4fe4f71-859b-4fd9-d5b6-e2a86317af11"
      },
      "outputs": [
        {
          "name": "stdout",
          "output_type": "stream",
          "text": [
            "12 * 1 = 12\n",
            "12 * 2 = 24\n",
            "12 * 3 = 36\n",
            "12 * 4 = 48\n",
            "12 * 5 = 60\n",
            "12 * 6 = 72\n",
            "12 * 7 = 84\n",
            "12 * 8 = 96\n",
            "12 * 9 = 108\n",
            "12 * 10 = 120\n"
          ]
        }
      ],
      "source": [
        "#Task 2:\n",
        "# Asks user to input a number\n",
        "number = int(input(\"Enter a number: \"))\n",
        "\n",
        "# Display the multiplication table\n",
        "for i in range(1, 11):\n",
        "    result = number * i\n",
        "    print(f\"{number} * {i} = {result}\")"
      ]
    },
    {
      "cell_type": "code",
      "execution_count": 3,
      "metadata": {
        "colab": {
          "base_uri": "https://localhost:8080/"
        },
        "id": "D2ZMS6ahoEaC",
        "outputId": "c01f1a5a-3822-49b6-ee48-c07fa0a86013"
      },
      "outputs": [
        {
          "name": "stdout",
          "output_type": "stream",
          "text": [
            "Random Numbers: [6 9 4 2 9]\n"
          ]
        }
      ],
      "source": [
        "#Task 3:\n",
        "import numpy as np\n",
        "\n",
        "# Generates 5 random numbers between 1 and 10\n",
        "random_numbers = np.random.randint(1, 11, size=5)\n",
        "# Prints the number\n",
        "print(\"Random Numbers:\", random_numbers)"
      ]
    },
    {
      "cell_type": "code",
      "execution_count": 5,
      "metadata": {
        "colab": {
          "base_uri": "https://localhost:8080/"
        },
        "id": "EeyGI845onL2",
        "outputId": "37dc9ee9-95a3-4f11-c3da-16e5d66fc6e2"
      },
      "outputs": [
        {
          "name": "stdout",
          "output_type": "stream",
          "text": [
            "The mean is: 21.2\n",
            "The median is: 20.0\n",
            "The standard deviation is: 8.576712656956627\n"
          ]
        }
      ],
      "source": [
        "# Task 4:\n",
        "import numpy as np\n",
        "from statistics import mode\n",
        "\n",
        "# Create a numpy array\n",
        "numpy_me = np.array([15, 27, 34, 8, 12, 27, 19, 34, 21, 15])\n",
        "\n",
        "# Calculate mean, median, mode, and standard deviation\n",
        "mean = np.mean(numpy_me)\n",
        "median = np.median(numpy_me)\n",
        "mode = mode(numpy_me)\n",
        "std_dev= np.std(numpy_me)\n",
        "\n",
        "# Print the results\n",
        "print(\"The mean is:\", mean)\n",
        "print(\"The median is:\", median)\n",
        "print(\"The mode is:\", mode_value)\n",
        "print (\"The standard deviation is:\", std_dev)"
      ]
    },
    {
      "cell_type": "code",
      "execution_count": 6,
      "metadata": {
        "colab": {
          "base_uri": "https://localhost:8080/"
        },
        "id": "ApfAOZ9vp5tk",
        "outputId": "b5975d91-2b17-4f83-a892-b224b429a12c"
      },
      "outputs": [
        {
          "name": "stdout",
          "output_type": "stream",
          "text": [
            "0,2,4,6,8,10\n"
          ]
        }
      ],
      "source": [
        "#Task 5:\n",
        "array = np.arange(0,11,2)\n",
        "print(\",\".join(map(str,array)))"
      ]
    },
    {
      "cell_type": "code",
      "execution_count": 7,
      "metadata": {
        "colab": {
          "base_uri": "https://localhost:8080/"
        },
        "id": "e9JBU4NsqILp",
        "outputId": "f4ec3a40-5acf-4505-b01f-ccb032ddb6bd"
      },
      "outputs": [
        {
          "name": "stdout",
          "output_type": "stream",
          "text": [
            "The Maximum Value is: 223\n",
            "The Minimum Value is: 5\n"
          ]
        }
      ],
      "source": [
        "#Task 6:\n",
        "import numpy as np\n",
        "\n",
        "myarray = np.array([12, 13, 11, 5, 6, 7, 8, 9, 100, 223])\n",
        "\n",
        "# Create two variables to store maximum and minimum values\n",
        "max = np.max(myarray)\n",
        "min = np.min(myarray)\n",
        "\n",
        "# Print the maximum and minimum values\n",
        "print(f\"The Maximum Value is: {max}\")\n",
        "print(f\"The Minimum Value is: {min}\")"
      ]
    },
    {
      "cell_type": "code",
      "execution_count": 8,
      "metadata": {
        "colab": {
          "base_uri": "https://localhost:8080/"
        },
        "id": "JtBSbThsqcRk",
        "outputId": "ef0c09c3-6036-4bc0-f609-fd11289218d1"
      },
      "outputs": [
        {
          "name": "stdout",
          "output_type": "stream",
          "text": [
            "The area of the rectangle is: 35.75\n"
          ]
        }
      ],
      "source": [
        "#Task 7:\n",
        "# Define the function to calculate the area of a rectangle\n",
        "def rectangle_area(length, width):\n",
        "    area = length * width\n",
        "    return area\n",
        "\n",
        "# Values for length and width\n",
        "length = 5.5\n",
        "width = 6.5\n",
        "\n",
        "# Call the function and print the area of the rectangle\n",
        "area_rectangle = rectangle_area(length, width)\n",
        "print(f\"The area of the rectangle is: {area_rectangle}\")"
      ]
    }
  ],
  "metadata": {
    "colab": {
      "provenance": []
    },
    "kernelspec": {
      "display_name": "Python 3",
      "name": "python3"
    },
    "language_info": {
      "codemirror_mode": {
        "name": "ipython",
        "version": 3
      },
      "file_extension": ".py",
      "mimetype": "text/x-python",
      "name": "python",
      "nbconvert_exporter": "python",
      "pygments_lexer": "ipython3",
      "version": "3.12.0"
    }
  },
  "nbformat": 4,
  "nbformat_minor": 0
}
