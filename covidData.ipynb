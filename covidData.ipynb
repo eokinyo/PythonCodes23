{
 "cells": [
  {
   "cell_type": "code",
   "execution_count": 2,
   "metadata": {},
   "outputs": [],
   "source": [
    "# Step 1: importing required modules\n",
    "import pandas as pd\n",
    "import numpy as np"
   ]
  },
  {
   "cell_type": "code",
   "execution_count": 3,
   "metadata": {},
   "outputs": [],
   "source": [
    "data = pd.read_csv(\"https://raw.githubusercontent.com/dipaish/data_analysis/main/covid_finland_cleaning.csv\")"
   ]
  },
  {
   "cell_type": "code",
   "execution_count": 4,
   "metadata": {},
   "outputs": [
    {
     "data": {
      "text/html": [
       "<div>\n",
       "<style scoped>\n",
       "    .dataframe tbody tr th:only-of-type {\n",
       "        vertical-align: middle;\n",
       "    }\n",
       "\n",
       "    .dataframe tbody tr th {\n",
       "        vertical-align: top;\n",
       "    }\n",
       "\n",
       "    .dataframe thead th {\n",
       "        text-align: right;\n",
       "    }\n",
       "</style>\n",
       "<table border=\"1\" class=\"dataframe\">\n",
       "  <thead>\n",
       "    <tr style=\"text-align: right;\">\n",
       "      <th></th>\n",
       "      <th>dateRep</th>\n",
       "      <th>day</th>\n",
       "      <th>month</th>\n",
       "      <th>year</th>\n",
       "      <th>cases</th>\n",
       "      <th>deaths</th>\n",
       "      <th>countriesAndTerritories</th>\n",
       "      <th>geoId</th>\n",
       "      <th>countryterritoryCode</th>\n",
       "      <th>popData2019</th>\n",
       "      <th>continentExp</th>\n",
       "      <th>Cumulative_number_for_14_days_of_COVID-19_cases_per_100000</th>\n",
       "    </tr>\n",
       "  </thead>\n",
       "  <tbody>\n",
       "    <tr>\n",
       "      <th>0</th>\n",
       "      <td>7/11/2020</td>\n",
       "      <td>11</td>\n",
       "      <td>7</td>\n",
       "      <td>2020</td>\n",
       "      <td>6.0</td>\n",
       "      <td>0</td>\n",
       "      <td>Finland</td>\n",
       "      <td>FI</td>\n",
       "      <td>FIN</td>\n",
       "      <td>5517919</td>\n",
       "      <td>Europe</td>\n",
       "      <td>1.594804</td>\n",
       "    </tr>\n",
       "    <tr>\n",
       "      <th>1</th>\n",
       "      <td>7/10/2020</td>\n",
       "      <td>10</td>\n",
       "      <td>7</td>\n",
       "      <td>2020</td>\n",
       "      <td>8.0</td>\n",
       "      <td>0</td>\n",
       "      <td>Finland</td>\n",
       "      <td>FI</td>\n",
       "      <td>FIN</td>\n",
       "      <td>5517919</td>\n",
       "      <td>Europe</td>\n",
       "      <td>1.830400</td>\n",
       "    </tr>\n",
       "    <tr>\n",
       "      <th>2</th>\n",
       "      <td>7/9/2020</td>\n",
       "      <td>9</td>\n",
       "      <td>7</td>\n",
       "      <td>2020</td>\n",
       "      <td>3.0</td>\n",
       "      <td>0</td>\n",
       "      <td>Finland</td>\n",
       "      <td>FI</td>\n",
       "      <td>FIN</td>\n",
       "      <td>5517919</td>\n",
       "      <td>Europe</td>\n",
       "      <td>1.776032</td>\n",
       "    </tr>\n",
       "    <tr>\n",
       "      <th>3</th>\n",
       "      <td>7/8/2020</td>\n",
       "      <td>8</td>\n",
       "      <td>7</td>\n",
       "      <td>2020</td>\n",
       "      <td>5.0</td>\n",
       "      <td>0</td>\n",
       "      <td>Finland</td>\n",
       "      <td>FI</td>\n",
       "      <td>FIN</td>\n",
       "      <td>5517919</td>\n",
       "      <td>Europe</td>\n",
       "      <td>1.939137</td>\n",
       "    </tr>\n",
       "    <tr>\n",
       "      <th>4</th>\n",
       "      <td>7/7/2020</td>\n",
       "      <td>7</td>\n",
       "      <td>7</td>\n",
       "      <td>2020</td>\n",
       "      <td>4.0</td>\n",
       "      <td>0</td>\n",
       "      <td>Finland</td>\n",
       "      <td>FI</td>\n",
       "      <td>FIN</td>\n",
       "      <td>5517919</td>\n",
       "      <td>Europe</td>\n",
       "      <td>2.047873</td>\n",
       "    </tr>\n",
       "  </tbody>\n",
       "</table>\n",
       "</div>"
      ],
      "text/plain": [
       "     dateRep  day  month  year  cases  deaths countriesAndTerritories geoId  \\\n",
       "0  7/11/2020   11      7  2020    6.0       0                 Finland    FI   \n",
       "1  7/10/2020   10      7  2020    8.0       0                 Finland    FI   \n",
       "2   7/9/2020    9      7  2020    3.0       0                 Finland    FI   \n",
       "3   7/8/2020    8      7  2020    5.0       0                 Finland    FI   \n",
       "4   7/7/2020    7      7  2020    4.0       0                 Finland    FI   \n",
       "\n",
       "  countryterritoryCode  popData2019 continentExp  \\\n",
       "0                  FIN      5517919       Europe   \n",
       "1                  FIN      5517919       Europe   \n",
       "2                  FIN      5517919       Europe   \n",
       "3                  FIN      5517919       Europe   \n",
       "4                  FIN      5517919       Europe   \n",
       "\n",
       "   Cumulative_number_for_14_days_of_COVID-19_cases_per_100000  \n",
       "0                                           1.594804           \n",
       "1                                           1.830400           \n",
       "2                                           1.776032           \n",
       "3                                           1.939137           \n",
       "4                                           2.047873           "
      ]
     },
     "execution_count": 4,
     "metadata": {},
     "output_type": "execute_result"
    }
   ],
   "source": [
    "data.head()"
   ]
  },
  {
   "cell_type": "code",
   "execution_count": 5,
   "metadata": {},
   "outputs": [
    {
     "name": "stdout",
     "output_type": "stream",
     "text": [
      "       dateRep  cases  deaths\n",
      "0    7/11/2020    6.0       0\n",
      "1    7/10/2020    8.0       0\n",
      "2     7/9/2020    3.0       0\n",
      "3     7/8/2020    5.0       0\n",
      "4     7/7/2020    4.0       0\n",
      "..         ...    ...     ...\n",
      "155   2/3/2020    0.0       0\n",
      "156   2/2/2020    0.0       0\n",
      "157   2/1/2020    0.0       0\n",
      "158  1/31/2020    0.0       0\n",
      "159  1/30/2020    1.0       0\n",
      "\n",
      "[160 rows x 3 columns]\n"
     ]
    },
    {
     "data": {
      "text/html": [
       "<div>\n",
       "<style scoped>\n",
       "    .dataframe tbody tr th:only-of-type {\n",
       "        vertical-align: middle;\n",
       "    }\n",
       "\n",
       "    .dataframe tbody tr th {\n",
       "        vertical-align: top;\n",
       "    }\n",
       "\n",
       "    .dataframe thead th {\n",
       "        text-align: right;\n",
       "    }\n",
       "</style>\n",
       "<table border=\"1\" class=\"dataframe\">\n",
       "  <thead>\n",
       "    <tr style=\"text-align: right;\">\n",
       "      <th></th>\n",
       "      <th>dateRep</th>\n",
       "      <th>cases</th>\n",
       "      <th>deaths</th>\n",
       "    </tr>\n",
       "  </thead>\n",
       "  <tbody>\n",
       "    <tr>\n",
       "      <th>0</th>\n",
       "      <td>7/11/2020</td>\n",
       "      <td>6.0</td>\n",
       "      <td>0</td>\n",
       "    </tr>\n",
       "    <tr>\n",
       "      <th>1</th>\n",
       "      <td>7/10/2020</td>\n",
       "      <td>8.0</td>\n",
       "      <td>0</td>\n",
       "    </tr>\n",
       "    <tr>\n",
       "      <th>2</th>\n",
       "      <td>7/9/2020</td>\n",
       "      <td>3.0</td>\n",
       "      <td>0</td>\n",
       "    </tr>\n",
       "    <tr>\n",
       "      <th>3</th>\n",
       "      <td>7/8/2020</td>\n",
       "      <td>5.0</td>\n",
       "      <td>0</td>\n",
       "    </tr>\n",
       "    <tr>\n",
       "      <th>4</th>\n",
       "      <td>7/7/2020</td>\n",
       "      <td>4.0</td>\n",
       "      <td>0</td>\n",
       "    </tr>\n",
       "    <tr>\n",
       "      <th>5</th>\n",
       "      <td>7/6/2020</td>\n",
       "      <td>5.0</td>\n",
       "      <td>0</td>\n",
       "    </tr>\n",
       "    <tr>\n",
       "      <th>6</th>\n",
       "      <td>7/5/2020</td>\n",
       "      <td>6.0</td>\n",
       "      <td>0</td>\n",
       "    </tr>\n",
       "    <tr>\n",
       "      <th>7</th>\n",
       "      <td>7/4/2020</td>\n",
       "      <td>NaN</td>\n",
       "      <td>1</td>\n",
       "    </tr>\n",
       "    <tr>\n",
       "      <th>8</th>\n",
       "      <td>7/3/2020</td>\n",
       "      <td>5.0</td>\n",
       "      <td>0</td>\n",
       "    </tr>\n",
       "    <tr>\n",
       "      <th>9</th>\n",
       "      <td>7/2/2020</td>\n",
       "      <td>22.0</td>\n",
       "      <td>0</td>\n",
       "    </tr>\n",
       "  </tbody>\n",
       "</table>\n",
       "</div>"
      ],
      "text/plain": [
       "     dateRep  cases  deaths\n",
       "0  7/11/2020    6.0       0\n",
       "1  7/10/2020    8.0       0\n",
       "2   7/9/2020    3.0       0\n",
       "3   7/8/2020    5.0       0\n",
       "4   7/7/2020    4.0       0\n",
       "5   7/6/2020    5.0       0\n",
       "6   7/5/2020    6.0       0\n",
       "7   7/4/2020    NaN       1\n",
       "8   7/3/2020    5.0       0\n",
       "9   7/2/2020   22.0       0"
      ]
     },
     "execution_count": 5,
     "metadata": {},
     "output_type": "execute_result"
    }
   ],
   "source": [
    "data.columns\n",
    "data.shape\n",
    "df1 = data[['dateRep', 'cases', 'deaths']]\n",
    "print(df1)\n",
    "df1.head(10)"
   ]
  },
  {
   "cell_type": "code",
   "execution_count": 6,
   "metadata": {},
   "outputs": [
    {
     "data": {
      "text/html": [
       "<div>\n",
       "<style scoped>\n",
       "    .dataframe tbody tr th:only-of-type {\n",
       "        vertical-align: middle;\n",
       "    }\n",
       "\n",
       "    .dataframe tbody tr th {\n",
       "        vertical-align: top;\n",
       "    }\n",
       "\n",
       "    .dataframe thead th {\n",
       "        text-align: right;\n",
       "    }\n",
       "</style>\n",
       "<table border=\"1\" class=\"dataframe\">\n",
       "  <thead>\n",
       "    <tr style=\"text-align: right;\">\n",
       "      <th></th>\n",
       "      <th>dateRep</th>\n",
       "      <th>cases</th>\n",
       "      <th>deaths</th>\n",
       "    </tr>\n",
       "  </thead>\n",
       "  <tbody>\n",
       "    <tr>\n",
       "      <th>7</th>\n",
       "      <td>7/4/2020</td>\n",
       "      <td>NaN</td>\n",
       "      <td>1</td>\n",
       "    </tr>\n",
       "    <tr>\n",
       "      <th>14</th>\n",
       "      <td>6/27/2020</td>\n",
       "      <td>19.0</td>\n",
       "      <td>1</td>\n",
       "    </tr>\n",
       "    <tr>\n",
       "      <th>18</th>\n",
       "      <td>6/23/2020</td>\n",
       "      <td>1.0</td>\n",
       "      <td>1</td>\n",
       "    </tr>\n",
       "    <tr>\n",
       "      <th>26</th>\n",
       "      <td>6/15/2020</td>\n",
       "      <td>17.0</td>\n",
       "      <td>1</td>\n",
       "    </tr>\n",
       "    <tr>\n",
       "      <th>29</th>\n",
       "      <td>6/12/2020</td>\n",
       "      <td>24.0</td>\n",
       "      <td>1</td>\n",
       "    </tr>\n",
       "  </tbody>\n",
       "</table>\n",
       "</div>"
      ],
      "text/plain": [
       "      dateRep  cases  deaths\n",
       "7    7/4/2020    NaN       1\n",
       "14  6/27/2020   19.0       1\n",
       "18  6/23/2020    1.0       1\n",
       "26  6/15/2020   17.0       1\n",
       "29  6/12/2020   24.0       1"
      ]
     },
     "execution_count": 6,
     "metadata": {},
     "output_type": "execute_result"
    }
   ],
   "source": [
    "df2 = df1[(df1['deaths'] >= 1)]\n",
    "df2.head()"
   ]
  },
  {
   "cell_type": "code",
   "execution_count": 7,
   "metadata": {},
   "outputs": [
    {
     "data": {
      "text/html": [
       "<div>\n",
       "<style scoped>\n",
       "    .dataframe tbody tr th:only-of-type {\n",
       "        vertical-align: middle;\n",
       "    }\n",
       "\n",
       "    .dataframe tbody tr th {\n",
       "        vertical-align: top;\n",
       "    }\n",
       "\n",
       "    .dataframe thead th {\n",
       "        text-align: right;\n",
       "    }\n",
       "</style>\n",
       "<table border=\"1\" class=\"dataframe\">\n",
       "  <thead>\n",
       "    <tr style=\"text-align: right;\">\n",
       "      <th></th>\n",
       "      <th>dateRep</th>\n",
       "      <th>cases</th>\n",
       "      <th>deaths</th>\n",
       "    </tr>\n",
       "  </thead>\n",
       "  <tbody>\n",
       "    <tr>\n",
       "      <th>3</th>\n",
       "      <td>7/8/2020</td>\n",
       "      <td>5.0</td>\n",
       "      <td>0</td>\n",
       "    </tr>\n",
       "    <tr>\n",
       "      <th>52</th>\n",
       "      <td>5/20/2020</td>\n",
       "      <td>19.0</td>\n",
       "      <td>1</td>\n",
       "    </tr>\n",
       "    <tr>\n",
       "      <th>2</th>\n",
       "      <td>7/9/2020</td>\n",
       "      <td>3.0</td>\n",
       "      <td>0</td>\n",
       "    </tr>\n",
       "    <tr>\n",
       "      <th>22</th>\n",
       "      <td>6/19/2020</td>\n",
       "      <td>0.0</td>\n",
       "      <td>0</td>\n",
       "    </tr>\n",
       "    <tr>\n",
       "      <th>136</th>\n",
       "      <td>2/22/2020</td>\n",
       "      <td>0.0</td>\n",
       "      <td>0</td>\n",
       "    </tr>\n",
       "  </tbody>\n",
       "</table>\n",
       "</div>"
      ],
      "text/plain": [
       "       dateRep  cases  deaths\n",
       "3     7/8/2020    5.0       0\n",
       "52   5/20/2020   19.0       1\n",
       "2     7/9/2020    3.0       0\n",
       "22   6/19/2020    0.0       0\n",
       "136  2/22/2020    0.0       0"
      ]
     },
     "execution_count": 7,
     "metadata": {},
     "output_type": "execute_result"
    }
   ],
   "source": [
    "# Making random samples\n",
    "sample1 = df1.sample(5)\n",
    "sample1"
   ]
  },
  {
   "cell_type": "code",
   "execution_count": 8,
   "metadata": {},
   "outputs": [
    {
     "data": {
      "text/plain": [
       "dateRep                                                        object\n",
       "day                                                             int64\n",
       "month                                                           int64\n",
       "year                                                            int64\n",
       "cases                                                         float64\n",
       "deaths                                                          int64\n",
       "countriesAndTerritories                                        object\n",
       "geoId                                                          object\n",
       "countryterritoryCode                                           object\n",
       "popData2019                                                     int64\n",
       "continentExp                                                   object\n",
       "Cumulative_number_for_14_days_of_COVID-19_cases_per_100000    float64\n",
       "dtype: object"
      ]
     },
     "execution_count": 8,
     "metadata": {},
     "output_type": "execute_result"
    }
   ],
   "source": [
    "# Data types\n",
    "data.dtypes #This is how we check for the data types in the data set."
   ]
  },
  {
   "cell_type": "code",
   "execution_count": 9,
   "metadata": {},
   "outputs": [
    {
     "name": "stdout",
     "output_type": "stream",
     "text": [
      "dateRep                                                       0\n",
      "day                                                           0\n",
      "month                                                         0\n",
      "year                                                          0\n",
      "cases                                                         7\n",
      "deaths                                                        0\n",
      "countriesAndTerritories                                       0\n",
      "geoId                                                         0\n",
      "countryterritoryCode                                          0\n",
      "popData2019                                                   0\n",
      "continentExp                                                  0\n",
      "Cumulative_number_for_14_days_of_COVID-19_cases_per_100000    0\n",
      "dtype: int64\n"
     ]
    }
   ],
   "source": [
    "# To get the missing data\n",
    "missing_count = data.isnull().sum()\n",
    "print(missing_count)"
   ]
  },
  {
   "cell_type": "code",
   "execution_count": 10,
   "metadata": {},
   "outputs": [
    {
     "name": "stdout",
     "output_type": "stream",
     "text": [
      "0.3645833333333333\n"
     ]
    }
   ],
   "source": [
    "# #We can see that 7 missing values in cases\n",
    "#When working with huge dataset it may be helpful to see what\n",
    "#percentage of the data is missing\n",
    "\n",
    "total_data=np.product(data.shape)\n",
    "total_missing=missing_count.sum()\n",
    "per_of_missing_data=(total_missing/total_data)* 100\n",
    "print(per_of_missing_data)\n",
    "\n",
    "#Conclusion: as you can see we have a very small percentage\n",
    "#of missing data, we may delete those rows or fill them up"
   ]
  },
  {
   "cell_type": "code",
   "execution_count": 11,
   "metadata": {},
   "outputs": [
    {
     "data": {
      "text/plain": [
       "array(['FI'], dtype=object)"
      ]
     },
     "execution_count": 11,
     "metadata": {},
     "output_type": "execute_result"
    }
   ],
   "source": [
    "data[\"geoId\"].unique()"
   ]
  },
  {
   "cell_type": "code",
   "execution_count": 12,
   "metadata": {},
   "outputs": [
    {
     "data": {
      "text/plain": [
       "(153, 12)"
      ]
     },
     "execution_count": 12,
     "metadata": {},
     "output_type": "execute_result"
    }
   ],
   "source": [
    "# lets create a new data frame by dropping all null values\n",
    "data1=data.dropna(axis=0, how='any') # axis=0 means rows are taken into account and how='any': a row is dropped if it contains at least one NaN value.\n",
    "data1.head()\n",
    "data1.shape"
   ]
  },
  {
   "cell_type": "code",
   "execution_count": 13,
   "metadata": {},
   "outputs": [
    {
     "data": {
      "text/plain": [
       "(160, 11)"
      ]
     },
     "execution_count": 13,
     "metadata": {},
     "output_type": "execute_result"
    }
   ],
   "source": [
    "data2=data.dropna(axis=1, how='any') # axis=0 means rows are taken into account and how='any': a row is dropped if it contains at least one NaN value.\n",
    "data2.head()\n",
    "data2.shape"
   ]
  },
  {
   "cell_type": "code",
   "execution_count": 14,
   "metadata": {},
   "outputs": [
    {
     "data": {
      "text/html": [
       "<div>\n",
       "<style scoped>\n",
       "    .dataframe tbody tr th:only-of-type {\n",
       "        vertical-align: middle;\n",
       "    }\n",
       "\n",
       "    .dataframe tbody tr th {\n",
       "        vertical-align: top;\n",
       "    }\n",
       "\n",
       "    .dataframe thead th {\n",
       "        text-align: right;\n",
       "    }\n",
       "</style>\n",
       "<table border=\"1\" class=\"dataframe\">\n",
       "  <thead>\n",
       "    <tr style=\"text-align: right;\">\n",
       "      <th></th>\n",
       "      <th>name</th>\n",
       "      <th>courseName</th>\n",
       "      <th>grade</th>\n",
       "    </tr>\n",
       "  </thead>\n",
       "  <tbody>\n",
       "    <tr>\n",
       "      <th>0</th>\n",
       "      <td>Johanna</td>\n",
       "      <td>Data Processing</td>\n",
       "      <td>1</td>\n",
       "    </tr>\n",
       "    <tr>\n",
       "      <th>1</th>\n",
       "      <td>Johanna</td>\n",
       "      <td>Data Processing</td>\n",
       "      <td>1</td>\n",
       "    </tr>\n",
       "    <tr>\n",
       "      <th>2</th>\n",
       "      <td>Johanna</td>\n",
       "      <td>Data Processing</td>\n",
       "      <td>1</td>\n",
       "    </tr>\n",
       "    <tr>\n",
       "      <th>3</th>\n",
       "      <td>Pekka</td>\n",
       "      <td>Data Processing</td>\n",
       "      <td>3</td>\n",
       "    </tr>\n",
       "    <tr>\n",
       "      <th>4</th>\n",
       "      <td>Pekka</td>\n",
       "      <td>Data Processing</td>\n",
       "      <td>3</td>\n",
       "    </tr>\n",
       "    <tr>\n",
       "      <th>5</th>\n",
       "      <td>Andrew</td>\n",
       "      <td>Data Processing</td>\n",
       "      <td>5</td>\n",
       "    </tr>\n",
       "    <tr>\n",
       "      <th>6</th>\n",
       "      <td>Ben</td>\n",
       "      <td>Data Processing</td>\n",
       "      <td>5</td>\n",
       "    </tr>\n",
       "    <tr>\n",
       "      <th>7</th>\n",
       "      <td>Matthew</td>\n",
       "      <td>Data Processing</td>\n",
       "      <td>4</td>\n",
       "    </tr>\n",
       "  </tbody>\n",
       "</table>\n",
       "</div>"
      ],
      "text/plain": [
       "      name       courseName  grade\n",
       "0  Johanna  Data Processing      1\n",
       "1  Johanna  Data Processing      1\n",
       "2  Johanna  Data Processing      1\n",
       "3    Pekka  Data Processing      3\n",
       "4    Pekka  Data Processing      3\n",
       "5   Andrew  Data Processing      5\n",
       "6      Ben  Data Processing      5\n",
       "7  Matthew  Data Processing      4"
      ]
     },
     "execution_count": 14,
     "metadata": {},
     "output_type": "execute_result"
    }
   ],
   "source": [
    "# Examples Removing duplicate values\n",
    "\n",
    "df = pd.DataFrame ({\n",
    "    'name': ['Johanna'] * 3 + ['Pekka'] * 2 + ['Andrew', 'Ben', 'Matthew'],\n",
    "    'courseName': ['Data Processing'] * 8,\n",
    "    'grade': [1,1,1,3,3,5,5,4]\n",
    "})\n",
    "df"
   ]
  },
  {
   "cell_type": "code",
   "execution_count": 15,
   "metadata": {},
   "outputs": [
    {
     "data": {
      "text/plain": [
       "<bound method DataFrame.duplicated of       name       courseName  grade\n",
       "0  Johanna  Data Processing      1\n",
       "1  Johanna  Data Processing      1\n",
       "2  Johanna  Data Processing      1\n",
       "3    Pekka  Data Processing      3\n",
       "4    Pekka  Data Processing      3\n",
       "5   Andrew  Data Processing      5\n",
       "6      Ben  Data Processing      5\n",
       "7  Matthew  Data Processing      4>"
      ]
     },
     "execution_count": 15,
     "metadata": {},
     "output_type": "execute_result"
    }
   ],
   "source": [
    "df.duplicated"
   ]
  },
  {
   "cell_type": "code",
   "execution_count": 16,
   "metadata": {},
   "outputs": [
    {
     "data": {
      "text/html": [
       "<div>\n",
       "<style scoped>\n",
       "    .dataframe tbody tr th:only-of-type {\n",
       "        vertical-align: middle;\n",
       "    }\n",
       "\n",
       "    .dataframe tbody tr th {\n",
       "        vertical-align: top;\n",
       "    }\n",
       "\n",
       "    .dataframe thead th {\n",
       "        text-align: right;\n",
       "    }\n",
       "</style>\n",
       "<table border=\"1\" class=\"dataframe\">\n",
       "  <thead>\n",
       "    <tr style=\"text-align: right;\">\n",
       "      <th></th>\n",
       "      <th>name</th>\n",
       "      <th>courseName</th>\n",
       "      <th>grade</th>\n",
       "    </tr>\n",
       "  </thead>\n",
       "  <tbody>\n",
       "    <tr>\n",
       "      <th>0</th>\n",
       "      <td>Johanna</td>\n",
       "      <td>Data Processing</td>\n",
       "      <td>1</td>\n",
       "    </tr>\n",
       "    <tr>\n",
       "      <th>3</th>\n",
       "      <td>Pekka</td>\n",
       "      <td>Data Processing</td>\n",
       "      <td>3</td>\n",
       "    </tr>\n",
       "    <tr>\n",
       "      <th>5</th>\n",
       "      <td>Andrew</td>\n",
       "      <td>Data Processing</td>\n",
       "      <td>5</td>\n",
       "    </tr>\n",
       "    <tr>\n",
       "      <th>6</th>\n",
       "      <td>Ben</td>\n",
       "      <td>Data Processing</td>\n",
       "      <td>5</td>\n",
       "    </tr>\n",
       "    <tr>\n",
       "      <th>7</th>\n",
       "      <td>Matthew</td>\n",
       "      <td>Data Processing</td>\n",
       "      <td>4</td>\n",
       "    </tr>\n",
       "  </tbody>\n",
       "</table>\n",
       "</div>"
      ],
      "text/plain": [
       "      name       courseName  grade\n",
       "0  Johanna  Data Processing      1\n",
       "3    Pekka  Data Processing      3\n",
       "5   Andrew  Data Processing      5\n",
       "6      Ben  Data Processing      5\n",
       "7  Matthew  Data Processing      4"
      ]
     },
     "execution_count": 16,
     "metadata": {},
     "output_type": "execute_result"
    }
   ],
   "source": [
    "#by default drop_duplicates() method removes duplicate rows based on all columns\n",
    "df.drop_duplicates()"
   ]
  },
  {
   "cell_type": "code",
   "execution_count": 17,
   "metadata": {},
   "outputs": [
    {
     "data": {
      "text/html": [
       "<div>\n",
       "<style scoped>\n",
       "    .dataframe tbody tr th:only-of-type {\n",
       "        vertical-align: middle;\n",
       "    }\n",
       "\n",
       "    .dataframe tbody tr th {\n",
       "        vertical-align: top;\n",
       "    }\n",
       "\n",
       "    .dataframe thead th {\n",
       "        text-align: right;\n",
       "    }\n",
       "</style>\n",
       "<table border=\"1\" class=\"dataframe\">\n",
       "  <thead>\n",
       "    <tr style=\"text-align: right;\">\n",
       "      <th></th>\n",
       "      <th>name</th>\n",
       "      <th>courseName</th>\n",
       "      <th>grade</th>\n",
       "    </tr>\n",
       "  </thead>\n",
       "  <tbody>\n",
       "    <tr>\n",
       "      <th>0</th>\n",
       "      <td>Johanna</td>\n",
       "      <td>Data Processing</td>\n",
       "      <td>1</td>\n",
       "    </tr>\n",
       "  </tbody>\n",
       "</table>\n",
       "</div>"
      ],
      "text/plain": [
       "      name       courseName  grade\n",
       "0  Johanna  Data Processing      1"
      ]
     },
     "execution_count": 17,
     "metadata": {},
     "output_type": "execute_result"
    }
   ],
   "source": [
    "#to remove duplicates on specific column(s)\n",
    "df.drop_duplicates(subset=['courseName'])"
   ]
  },
  {
   "cell_type": "code",
   "execution_count": 18,
   "metadata": {},
   "outputs": [
    {
     "data": {
      "text/html": [
       "<div>\n",
       "<style scoped>\n",
       "    .dataframe tbody tr th:only-of-type {\n",
       "        vertical-align: middle;\n",
       "    }\n",
       "\n",
       "    .dataframe tbody tr th {\n",
       "        vertical-align: top;\n",
       "    }\n",
       "\n",
       "    .dataframe thead th {\n",
       "        text-align: right;\n",
       "    }\n",
       "</style>\n",
       "<table border=\"1\" class=\"dataframe\">\n",
       "  <thead>\n",
       "    <tr style=\"text-align: right;\">\n",
       "      <th></th>\n",
       "      <th>name</th>\n",
       "      <th>courseName</th>\n",
       "      <th>grade</th>\n",
       "    </tr>\n",
       "  </thead>\n",
       "  <tbody>\n",
       "    <tr>\n",
       "      <th>0</th>\n",
       "      <td>Johanna</td>\n",
       "      <td>Data Processing</td>\n",
       "      <td>1</td>\n",
       "    </tr>\n",
       "    <tr>\n",
       "      <th>3</th>\n",
       "      <td>Pekka</td>\n",
       "      <td>Data Processing</td>\n",
       "      <td>3</td>\n",
       "    </tr>\n",
       "    <tr>\n",
       "      <th>5</th>\n",
       "      <td>Andrew</td>\n",
       "      <td>Data Processing</td>\n",
       "      <td>5</td>\n",
       "    </tr>\n",
       "    <tr>\n",
       "      <th>6</th>\n",
       "      <td>Ben</td>\n",
       "      <td>Data Processing</td>\n",
       "      <td>5</td>\n",
       "    </tr>\n",
       "    <tr>\n",
       "      <th>7</th>\n",
       "      <td>Matthew</td>\n",
       "      <td>Data Processing</td>\n",
       "      <td>4</td>\n",
       "    </tr>\n",
       "  </tbody>\n",
       "</table>\n",
       "</div>"
      ],
      "text/plain": [
       "      name       courseName  grade\n",
       "0  Johanna  Data Processing      1\n",
       "3    Pekka  Data Processing      3\n",
       "5   Andrew  Data Processing      5\n",
       "6      Ben  Data Processing      5\n",
       "7  Matthew  Data Processing      4"
      ]
     },
     "execution_count": 18,
     "metadata": {},
     "output_type": "execute_result"
    }
   ],
   "source": [
    "# to remove duplicates and keep the first occurence\n",
    "df.drop_duplicates(subset=['name','courseName'], keep='first')"
   ]
  },
  {
   "cell_type": "code",
   "execution_count": 19,
   "metadata": {},
   "outputs": [
    {
     "data": {
      "text/html": [
       "<div>\n",
       "<style scoped>\n",
       "    .dataframe tbody tr th:only-of-type {\n",
       "        vertical-align: middle;\n",
       "    }\n",
       "\n",
       "    .dataframe tbody tr th {\n",
       "        vertical-align: top;\n",
       "    }\n",
       "\n",
       "    .dataframe thead th {\n",
       "        text-align: right;\n",
       "    }\n",
       "</style>\n",
       "<table border=\"1\" class=\"dataframe\">\n",
       "  <thead>\n",
       "    <tr style=\"text-align: right;\">\n",
       "      <th></th>\n",
       "      <th>name</th>\n",
       "      <th>courseName</th>\n",
       "      <th>grade</th>\n",
       "    </tr>\n",
       "  </thead>\n",
       "  <tbody>\n",
       "    <tr>\n",
       "      <th>2</th>\n",
       "      <td>Johanna</td>\n",
       "      <td>Data Processing</td>\n",
       "      <td>1</td>\n",
       "    </tr>\n",
       "    <tr>\n",
       "      <th>4</th>\n",
       "      <td>Pekka</td>\n",
       "      <td>Data Processing</td>\n",
       "      <td>3</td>\n",
       "    </tr>\n",
       "    <tr>\n",
       "      <th>5</th>\n",
       "      <td>Andrew</td>\n",
       "      <td>Data Processing</td>\n",
       "      <td>5</td>\n",
       "    </tr>\n",
       "    <tr>\n",
       "      <th>6</th>\n",
       "      <td>Ben</td>\n",
       "      <td>Data Processing</td>\n",
       "      <td>5</td>\n",
       "    </tr>\n",
       "    <tr>\n",
       "      <th>7</th>\n",
       "      <td>Matthew</td>\n",
       "      <td>Data Processing</td>\n",
       "      <td>4</td>\n",
       "    </tr>\n",
       "  </tbody>\n",
       "</table>\n",
       "</div>"
      ],
      "text/plain": [
       "      name       courseName  grade\n",
       "2  Johanna  Data Processing      1\n",
       "4    Pekka  Data Processing      3\n",
       "5   Andrew  Data Processing      5\n",
       "6      Ben  Data Processing      5\n",
       "7  Matthew  Data Processing      4"
      ]
     },
     "execution_count": 19,
     "metadata": {},
     "output_type": "execute_result"
    }
   ],
   "source": [
    "# to remove duplicates and keep the last occurence\n",
    "df.drop_duplicates(subset=['name','courseName'], keep='last')"
   ]
  },
  {
   "cell_type": "code",
   "execution_count": 20,
   "metadata": {},
   "outputs": [
    {
     "data": {
      "text/html": [
       "<div>\n",
       "<style scoped>\n",
       "    .dataframe tbody tr th:only-of-type {\n",
       "        vertical-align: middle;\n",
       "    }\n",
       "\n",
       "    .dataframe tbody tr th {\n",
       "        vertical-align: top;\n",
       "    }\n",
       "\n",
       "    .dataframe thead th {\n",
       "        text-align: right;\n",
       "    }\n",
       "</style>\n",
       "<table border=\"1\" class=\"dataframe\">\n",
       "  <thead>\n",
       "    <tr style=\"text-align: right;\">\n",
       "      <th></th>\n",
       "      <th>name</th>\n",
       "      <th>courseName</th>\n",
       "      <th>grade</th>\n",
       "    </tr>\n",
       "  </thead>\n",
       "  <tbody>\n",
       "    <tr>\n",
       "      <th>5</th>\n",
       "      <td>Andrew</td>\n",
       "      <td>Data Processing</td>\n",
       "      <td>5</td>\n",
       "    </tr>\n",
       "    <tr>\n",
       "      <th>6</th>\n",
       "      <td>Ben</td>\n",
       "      <td>Data Processing</td>\n",
       "      <td>5</td>\n",
       "    </tr>\n",
       "    <tr>\n",
       "      <th>7</th>\n",
       "      <td>Matthew</td>\n",
       "      <td>Data Processing</td>\n",
       "      <td>4</td>\n",
       "    </tr>\n",
       "  </tbody>\n",
       "</table>\n",
       "</div>"
      ],
      "text/plain": [
       "      name       courseName  grade\n",
       "5   Andrew  Data Processing      5\n",
       "6      Ben  Data Processing      5\n",
       "7  Matthew  Data Processing      4"
      ]
     },
     "execution_count": 20,
     "metadata": {},
     "output_type": "execute_result"
    }
   ],
   "source": [
    "# dropping all duplicate values that is rows having same name\n",
    "#and coursename are removed to create a new data frame,\n",
    "#since keep=false it will remove all occurences of duplicate values\n",
    "df.drop_duplicates(subset=['name','courseName'], keep=False, inplace=True)\n",
    "df\n",
    "#check the output by recreating the dataframe and changing inplace=False"
   ]
  },
  {
   "cell_type": "code",
   "execution_count": 21,
   "metadata": {},
   "outputs": [],
   "source": [
    "# Detecting & Filtering Outliers"
   ]
  },
  {
   "cell_type": "code",
   "execution_count": 22,
   "metadata": {},
   "outputs": [
    {
     "ename": "ModuleNotFoundError",
     "evalue": "No module named 'matplotlib'",
     "output_type": "error",
     "traceback": [
      "\u001b[1;31m---------------------------------------------------------------------------\u001b[0m",
      "\u001b[1;31mModuleNotFoundError\u001b[0m                       Traceback (most recent call last)",
      "\u001b[1;32mc:\\Users\\ellyo\\OneDrive - Hämeen ammattikorkeakoulu\\BBACP\\Year1\\Module2\\DataAnalytics_Intro\\PythonCodes23\\covidData.ipynb Cell 21\u001b[0m line \u001b[0;36m4\n\u001b[0;32m      <a href='vscode-notebook-cell:/c%3A/Users/ellyo/OneDrive%20-%20H%C3%A4meen%20ammattikorkeakoulu/BBACP/Year1/Module2/DataAnalytics_Intro/PythonCodes23/covidData.ipynb#X26sZmlsZQ%3D%3D?line=0'>1</a>\u001b[0m \u001b[39m### Using Box Plots to identify the outlier\u001b[39;00m\n\u001b[0;32m      <a href='vscode-notebook-cell:/c%3A/Users/ellyo/OneDrive%20-%20H%C3%A4meen%20ammattikorkeakoulu/BBACP/Year1/Module2/DataAnalytics_Intro/PythonCodes23/covidData.ipynb#X26sZmlsZQ%3D%3D?line=1'>2</a>\u001b[0m \u001b[39m# Individual data points beyond the whiskers are shown as dots and are considered potential outliers.\u001b[39;00m\n\u001b[0;32m      <a href='vscode-notebook-cell:/c%3A/Users/ellyo/OneDrive%20-%20H%C3%A4meen%20ammattikorkeakoulu/BBACP/Year1/Module2/DataAnalytics_Intro/PythonCodes23/covidData.ipynb#X26sZmlsZQ%3D%3D?line=2'>3</a>\u001b[0m \u001b[39m# Example 1 : Covid cases dataframe\u001b[39;00m\n\u001b[1;32m----> <a href='vscode-notebook-cell:/c%3A/Users/ellyo/OneDrive%20-%20H%C3%A4meen%20ammattikorkeakoulu/BBACP/Year1/Module2/DataAnalytics_Intro/PythonCodes23/covidData.ipynb#X26sZmlsZQ%3D%3D?line=3'>4</a>\u001b[0m \u001b[39mimport\u001b[39;00m \u001b[39mmatplotlib\u001b[39;00m\u001b[39m.\u001b[39;00m\u001b[39mpyplot\u001b[39;00m \u001b[39mas\u001b[39;00m \u001b[39mplt\u001b[39;00m\n\u001b[0;32m      <a href='vscode-notebook-cell:/c%3A/Users/ellyo/OneDrive%20-%20H%C3%A4meen%20ammattikorkeakoulu/BBACP/Year1/Module2/DataAnalytics_Intro/PythonCodes23/covidData.ipynb#X26sZmlsZQ%3D%3D?line=4'>5</a>\u001b[0m data\u001b[39m.\u001b[39mboxplot(column \u001b[39m=\u001b[39m \u001b[39m'\u001b[39m\u001b[39mcases\u001b[39m\u001b[39m'\u001b[39m)\n\u001b[0;32m      <a href='vscode-notebook-cell:/c%3A/Users/ellyo/OneDrive%20-%20H%C3%A4meen%20ammattikorkeakoulu/BBACP/Year1/Module2/DataAnalytics_Intro/PythonCodes23/covidData.ipynb#X26sZmlsZQ%3D%3D?line=5'>6</a>\u001b[0m plt\u001b[39m.\u001b[39mshow()\n",
      "\u001b[1;31mModuleNotFoundError\u001b[0m: No module named 'matplotlib'"
     ]
    }
   ],
   "source": [
    "### Using Box Plots to identify the outlier\n",
    "# Individual data points beyond the whiskers are shown as dots and are considered potential outliers.\n",
    "# Example 1 : Covid cases dataframe\n",
    "import matplotlib.pyplot as plt\n",
    "data.boxplot(column = 'cases')\n",
    "plt.show()"
   ]
  },
  {
   "cell_type": "code",
   "execution_count": 23,
   "metadata": {},
   "outputs": [
    {
     "ename": "NameError",
     "evalue": "name 'plt' is not defined",
     "output_type": "error",
     "traceback": [
      "\u001b[1;31m---------------------------------------------------------------------------\u001b[0m",
      "\u001b[1;31mNameError\u001b[0m                                 Traceback (most recent call last)",
      "\u001b[1;32mc:\\Users\\ellyo\\OneDrive - Hämeen ammattikorkeakoulu\\BBACP\\Year1\\Module2\\DataAnalytics_Intro\\PythonCodes23\\covidData.ipynb Cell 22\u001b[0m line \u001b[0;36m1\n\u001b[0;32m      <a href='vscode-notebook-cell:/c%3A/Users/ellyo/OneDrive%20-%20H%C3%A4meen%20ammattikorkeakoulu/BBACP/Year1/Module2/DataAnalytics_Intro/PythonCodes23/covidData.ipynb#X30sZmlsZQ%3D%3D?line=7'>8</a>\u001b[0m df \u001b[39m=\u001b[39m pd\u001b[39m.\u001b[39mDataFrame(data)\n\u001b[0;32m     <a href='vscode-notebook-cell:/c%3A/Users/ellyo/OneDrive%20-%20H%C3%A4meen%20ammattikorkeakoulu/BBACP/Year1/Module2/DataAnalytics_Intro/PythonCodes23/covidData.ipynb#X30sZmlsZQ%3D%3D?line=9'>10</a>\u001b[0m \u001b[39m# Create a box plot\u001b[39;00m\n\u001b[1;32m---> <a href='vscode-notebook-cell:/c%3A/Users/ellyo/OneDrive%20-%20H%C3%A4meen%20ammattikorkeakoulu/BBACP/Year1/Module2/DataAnalytics_Intro/PythonCodes23/covidData.ipynb#X30sZmlsZQ%3D%3D?line=10'>11</a>\u001b[0m plt\u001b[39m.\u001b[39mboxplot(df\u001b[39m.\u001b[39mvalues, labels\u001b[39m=\u001b[39mdf\u001b[39m.\u001b[39mcolumns)\n\u001b[0;32m     <a href='vscode-notebook-cell:/c%3A/Users/ellyo/OneDrive%20-%20H%C3%A4meen%20ammattikorkeakoulu/BBACP/Year1/Module2/DataAnalytics_Intro/PythonCodes23/covidData.ipynb#X30sZmlsZQ%3D%3D?line=11'>12</a>\u001b[0m plt\u001b[39m.\u001b[39mtitle(\u001b[39m'\u001b[39m\u001b[39mBox Plot of Groups\u001b[39m\u001b[39m'\u001b[39m)\n\u001b[0;32m     <a href='vscode-notebook-cell:/c%3A/Users/ellyo/OneDrive%20-%20H%C3%A4meen%20ammattikorkeakoulu/BBACP/Year1/Module2/DataAnalytics_Intro/PythonCodes23/covidData.ipynb#X30sZmlsZQ%3D%3D?line=12'>13</a>\u001b[0m plt\u001b[39m.\u001b[39mxlabel(\u001b[39m'\u001b[39m\u001b[39mGroups\u001b[39m\u001b[39m'\u001b[39m)\n",
      "\u001b[1;31mNameError\u001b[0m: name 'plt' is not defined"
     ]
    }
   ],
   "source": [
    "# Example 2: Idenftifying possible outliers.\n",
    "data = {\n",
    "    'Group_A': [20, 25, 30, 35, 40, 45, 50, 55, 60, 200],\n",
    "    'Group_B': [25, 30, 35, 40, 45, 50, 55, 60, 65, 150],\n",
    "    'Group_C': [30, 35, 40, 45, 50, 55, 60, 65, 70, 200]\n",
    "}\n",
    "\n",
    "df = pd.DataFrame(data)\n",
    "\n",
    "# Create a box plot\n",
    "plt.boxplot(df.values, labels=df.columns)\n",
    "plt.title('Box Plot of Groups')\n",
    "plt.xlabel('Groups')\n",
    "plt.ylabel('Values')\n",
    "plt.show()"
   ]
  },
  {
   "cell_type": "code",
   "execution_count": 24,
   "metadata": {},
   "outputs": [
    {
     "name": "stdout",
     "output_type": "stream",
     "text": [
      "['Young', 'Adult', 'MiddleAged', 'Elderly']\n",
      "AgeGroup\n",
      "MiddleAged    6\n",
      "Elderly       6\n",
      "Young         4\n",
      "Adult         2\n",
      "Name: count, dtype: int64\n"
     ]
    }
   ],
   "source": [
    "# Another Example of binning  with cut\n",
    "\n",
    "# Lets make a simple dataframe\n",
    "ages = {'age':[21, 23, 35, 36, 21, 23, 47, 35, 63, 43, 49, 33,47, 35, 63, 43, 49, 33]}\n",
    "df_ages = pd.DataFrame(ages)\n",
    "# to divide them into bins of 20 - 25, 26 - 35 , 36- 45 & > 46, define the bin edges\n",
    "bins = [20,25,35,45,90]\n",
    "\n",
    "# lets create lables for each bin\n",
    "labels = ['Young', 'Adult', 'MiddleAged', 'Elderly']\n",
    "\n",
    "# we will use cut function to bin\n",
    "df_ages['AgeGroup'] = pd.cut(df_ages['age'], bins=bins, labels=labels, right=False)\n",
    "\n",
    "# Get the list of categories\n",
    "categories_list = df_ages['AgeGroup'].cat.categories.tolist()\n",
    "print(categories_list)\n",
    "\n",
    "# Count the values in each bin\n",
    "bin_counts = df_ages['AgeGroup'].value_counts()\n",
    "print(bin_counts)"
   ]
  },
  {
   "cell_type": "code",
   "execution_count": 26,
   "metadata": {},
   "outputs": [
    {
     "data": {
      "text/html": [
       "<div>\n",
       "<style scoped>\n",
       "    .dataframe tbody tr th:only-of-type {\n",
       "        vertical-align: middle;\n",
       "    }\n",
       "\n",
       "    .dataframe tbody tr th {\n",
       "        vertical-align: top;\n",
       "    }\n",
       "\n",
       "    .dataframe thead th {\n",
       "        text-align: right;\n",
       "    }\n",
       "</style>\n",
       "<table border=\"1\" class=\"dataframe\">\n",
       "  <thead>\n",
       "    <tr style=\"text-align: right;\">\n",
       "      <th></th>\n",
       "      <th>age</th>\n",
       "      <th>AgeGroup</th>\n",
       "    </tr>\n",
       "  </thead>\n",
       "  <tbody>\n",
       "    <tr>\n",
       "      <th>0</th>\n",
       "      <td>21</td>\n",
       "      <td>Young</td>\n",
       "    </tr>\n",
       "    <tr>\n",
       "      <th>1</th>\n",
       "      <td>23</td>\n",
       "      <td>Young</td>\n",
       "    </tr>\n",
       "    <tr>\n",
       "      <th>2</th>\n",
       "      <td>35</td>\n",
       "      <td>MiddleAged</td>\n",
       "    </tr>\n",
       "    <tr>\n",
       "      <th>3</th>\n",
       "      <td>36</td>\n",
       "      <td>MiddleAged</td>\n",
       "    </tr>\n",
       "    <tr>\n",
       "      <th>4</th>\n",
       "      <td>21</td>\n",
       "      <td>Young</td>\n",
       "    </tr>\n",
       "    <tr>\n",
       "      <th>5</th>\n",
       "      <td>23</td>\n",
       "      <td>Young</td>\n",
       "    </tr>\n",
       "    <tr>\n",
       "      <th>6</th>\n",
       "      <td>47</td>\n",
       "      <td>Elderly</td>\n",
       "    </tr>\n",
       "    <tr>\n",
       "      <th>7</th>\n",
       "      <td>35</td>\n",
       "      <td>MiddleAged</td>\n",
       "    </tr>\n",
       "    <tr>\n",
       "      <th>8</th>\n",
       "      <td>63</td>\n",
       "      <td>Elderly</td>\n",
       "    </tr>\n",
       "    <tr>\n",
       "      <th>9</th>\n",
       "      <td>43</td>\n",
       "      <td>MiddleAged</td>\n",
       "    </tr>\n",
       "    <tr>\n",
       "      <th>10</th>\n",
       "      <td>49</td>\n",
       "      <td>Elderly</td>\n",
       "    </tr>\n",
       "    <tr>\n",
       "      <th>11</th>\n",
       "      <td>33</td>\n",
       "      <td>Adult</td>\n",
       "    </tr>\n",
       "    <tr>\n",
       "      <th>12</th>\n",
       "      <td>47</td>\n",
       "      <td>Elderly</td>\n",
       "    </tr>\n",
       "    <tr>\n",
       "      <th>13</th>\n",
       "      <td>35</td>\n",
       "      <td>MiddleAged</td>\n",
       "    </tr>\n",
       "    <tr>\n",
       "      <th>14</th>\n",
       "      <td>63</td>\n",
       "      <td>Elderly</td>\n",
       "    </tr>\n",
       "    <tr>\n",
       "      <th>15</th>\n",
       "      <td>43</td>\n",
       "      <td>MiddleAged</td>\n",
       "    </tr>\n",
       "    <tr>\n",
       "      <th>16</th>\n",
       "      <td>49</td>\n",
       "      <td>Elderly</td>\n",
       "    </tr>\n",
       "    <tr>\n",
       "      <th>17</th>\n",
       "      <td>33</td>\n",
       "      <td>Adult</td>\n",
       "    </tr>\n",
       "  </tbody>\n",
       "</table>\n",
       "</div>"
      ],
      "text/plain": [
       "    age    AgeGroup\n",
       "0    21       Young\n",
       "1    23       Young\n",
       "2    35  MiddleAged\n",
       "3    36  MiddleAged\n",
       "4    21       Young\n",
       "5    23       Young\n",
       "6    47     Elderly\n",
       "7    35  MiddleAged\n",
       "8    63     Elderly\n",
       "9    43  MiddleAged\n",
       "10   49     Elderly\n",
       "11   33       Adult\n",
       "12   47     Elderly\n",
       "13   35  MiddleAged\n",
       "14   63     Elderly\n",
       "15   43  MiddleAged\n",
       "16   49     Elderly\n",
       "17   33       Adult"
      ]
     },
     "execution_count": 26,
     "metadata": {},
     "output_type": "execute_result"
    }
   ],
   "source": [
    "ages = {'age':[21, 23, 35, 36, 21, 23, 47, 35, 63, 43, 49, 33,47, 35, 63, 43, 49, 33]}\n",
    "df_ages = pd.DataFrame(ages)\n",
    "# to divide them into bins of 20 - 25, 26 - 35 , 36- 45 & > 46, define the bin edges\n",
    "bins = [20,25,35,45,90]\n",
    "\n",
    "# define some labels\n",
    "labels = ['Young', 'Adult', 'MiddleAged', 'Elderly']\n",
    "df_ages ['AgeGroup'] = pd.cut(df_ages['age'], bins = bins, labels= labels, right= False)\n",
    "df_ages"
   ]
  },
  {
   "cell_type": "code",
   "execution_count": 28,
   "metadata": {},
   "outputs": [],
   "source": [
    "import numpy as np"
   ]
  },
  {
   "cell_type": "code",
   "execution_count": 29,
   "metadata": {},
   "outputs": [],
   "source": [
    "# Creating a one dimensional array array\n",
    "nump1 = np.array([1, 2, 3, 4, 5])\n",
    "\n",
    "# Two dimensional array can be given by listing the rows of the array:\n",
    "nump2 = np.array([[1,2,3], [4,5,6]])\n",
    "\n",
    "# Similarly, three dimensional array can be described as a list of lists of lists:\n",
    "nump3 = np.array([[[1,2], [3,4]], [[5,6], [7,8]]])"
   ]
  },
  {
   "cell_type": "code",
   "execution_count": 30,
   "metadata": {},
   "outputs": [
    {
     "name": "stdout",
     "output_type": "stream",
     "text": [
      "[ 2.  4.  6.  8. 10.]\n"
     ]
    }
   ],
   "source": [
    "# Examples\n",
    "\n",
    "# random.randint(): generates random integers within a specified range.\n",
    "random_numbers = np.random.randint(1, 11, size=5) # Generate 5 random numbers between 1 and 10\n",
    "random_integers1 = np.random.randint(1, 10, size=(2, 3))  # Creates a 2x3 array of random integers between 1 and 9\n",
    "\n",
    "\n",
    "# np.random.rand(): generates random values from a uniform distribution between 0 and 1.\n",
    "random_values = np.random.rand(3)  # Creates 3 random values between 0 & 1\n",
    "\n",
    "\n",
    "# np.zeros(): creates an array filled with zeros.\n",
    "zeros = np.zeros(5) # Creates a 1D array of five zeros\n",
    "zeros1 = np.zeros((2, 3)) # creates a 2*3 arrays\n",
    "\n",
    "# np.ones(): creates an array filled with ones.\n",
    "ones = np.ones((2, 3))  # Creates a 2x3 array of ones\n",
    "\n",
    "# np.empty():creates an array without initializing its values\n",
    "empty = np.empty((2, 3))  # Creates a 2x3 empty array\n",
    "\n",
    "# np.arange():generates an array with a range of values.\n",
    "arange = np.arange(1, 10, 2)  # Creates a 1D array [1, 3, 5, 7, 9]\n",
    "\n",
    "# np.linspace(): generates an array with a specified number of evenly spaced values\n",
    "space = np.linspace(2, 10, 5)\n",
    "print(space)"
   ]
  },
  {
   "cell_type": "code",
   "execution_count": 31,
   "metadata": {},
   "outputs": [],
   "source": [
    "#Importing the required packages : pandas & NumPy\n",
    "\n",
    "import pandas as pd\n",
    "import numpy as np\n",
    "\n",
    "# Import the dataset from this url https://raw.githubusercontent.com/justmarkham/DAT8/master/data/chipotle.tsv\n",
    "# Assign the url to a variable called url and create a dataframe named chipo.\n",
    "url = 'https://raw.githubusercontent.com/justmarkham/DAT8/master/data/chipotle.tsv'\n",
    "\n",
    "\n",
    "# load the dataset into a Dataframe\n",
    "chipo = pd.read_csv(url, sep = '\\t')"
   ]
  },
  {
   "cell_type": "code",
   "execution_count": 32,
   "metadata": {},
   "outputs": [
    {
     "name": "stdout",
     "output_type": "stream",
     "text": [
      "   order_id  quantity                              item_name  \\\n",
      "0         1         1           Chips and Fresh Tomato Salsa   \n",
      "1         1         1                                   Izze   \n",
      "2         1         1                       Nantucket Nectar   \n",
      "3         1         1  Chips and Tomatillo-Green Chili Salsa   \n",
      "4         2         2                           Chicken Bowl   \n",
      "\n",
      "                                  choice_description item_price  \n",
      "0                                                NaN     $2.39   \n",
      "1                                       [Clementine]     $3.39   \n",
      "2                                            [Apple]     $3.39   \n",
      "3                                                NaN     $2.39   \n",
      "4  [Tomatillo-Red Chili Salsa (Hot), [Black Beans...    $16.98   \n"
     ]
    }
   ],
   "source": [
    "# Let's check the first few rows of the dataset\n",
    "print(chipo.head())"
   ]
  },
  {
   "cell_type": "code",
   "execution_count": 35,
   "metadata": {},
   "outputs": [
    {
     "name": "stdout",
     "output_type": "stream",
     "text": [
      "float64\n"
     ]
    }
   ],
   "source": [
    "# Before being able to calcuate, we need to ensure that our values are numerical, lets check the data type\n",
    "print(chipo['item_price'].dtype)"
   ]
  },
  {
   "cell_type": "code",
   "execution_count": 34,
   "metadata": {},
   "outputs": [],
   "source": [
    "# now lets convert item_price to numerical values (float), since there is a dollar sign we need to remove it first.\n",
    "chipo['item_price'] = chipo['item_price'].apply(lambda x: float(x[1:]))"
   ]
  },
  {
   "cell_type": "code",
   "execution_count": 36,
   "metadata": {},
   "outputs": [
    {
     "name": "stdout",
     "output_type": "stream",
     "text": [
      "The total revenue is:  34500.16\n"
     ]
    }
   ],
   "source": [
    "# to get the total revenue, we need to get the sum of item_price column\n",
    "total_revenue = np.sum(chipo['item_price'])\n",
    "print(\"The total revenue is: \", total_revenue)"
   ]
  },
  {
   "cell_type": "code",
   "execution_count": 37,
   "metadata": {},
   "outputs": [
    {
     "name": "stdout",
     "output_type": "stream",
     "text": [
      "int64\n",
      "Average quantity of items ordered:  1.0757247944612722\n",
      "Average quantity of items ordered: 1.08\n"
     ]
    }
   ],
   "source": [
    "# Before being able to calcuate, we need to ensure that our values are numerical, lets check the data type\n",
    "print(chipo['quantity'].dtype)\n",
    "\n",
    "#since the data type is integer, we can proceed with the calucation\n",
    "average_quantity = np.mean(chipo['quantity'])\n",
    "print(\"Average quantity of items ordered: \", average_quantity)\n",
    "\n",
    "# Lets use the round function to display only two decimal points\n",
    "print(\"Average quantity of items ordered: {:.2f}\".format(average_quantity))"
   ]
  },
  {
   "cell_type": "code",
   "execution_count": null,
   "metadata": {},
   "outputs": [],
   "source": []
  }
 ],
 "metadata": {
  "kernelspec": {
   "display_name": "Python 3",
   "language": "python",
   "name": "python3"
  },
  "language_info": {
   "codemirror_mode": {
    "name": "ipython",
    "version": 3
   },
   "file_extension": ".py",
   "mimetype": "text/x-python",
   "name": "python",
   "nbconvert_exporter": "python",
   "pygments_lexer": "ipython3",
   "version": "3.12.0"
  }
 },
 "nbformat": 4,
 "nbformat_minor": 2
}
