{
 "cells": [
  {
   "cell_type": "code",
   "execution_count": 1,
   "metadata": {},
   "outputs": [
    {
     "name": "stdout",
     "output_type": "stream",
     "text": [
      "The itsy bitsy spider\n",
      "climbed up the waterspout.\n",
      "\n",
      "Down came the rain\n",
      "and washed the spider out.\n"
     ]
    },
    {
     "name": "stderr",
     "output_type": "stream",
     "text": [
      "<>:4: SyntaxWarning: invalid escape sequence '\\)'\n",
      "<>:4: SyntaxWarning: invalid escape sequence '\\)'\n",
      "C:\\Users\\ellyo\\AppData\\Local\\Temp\\ipykernel_53276\\3272740566.py:4: SyntaxWarning: invalid escape sequence '\\)'\n",
      "  '''\n"
     ]
    },
    {
     "data": {
      "text/plain": [
       "\"\\nThe backslash (\\\\) has a very special meaning when used inside strings ‒ this is called the escape character.\\n\\nThe word escape should be understood specifically ‒ it means that the series of characters in the string escapes for the moment (a very short moment) to introduce a special inclusion.\\n\\nIn other words, the backslash doesn't mean anything in itself, but is only a kind of announcement, that the next character after the backslash has a different meaning too.\\n\\nThe letter n placed after the backslash comes from the word newline.\\n\\nBoth the backslash and the n form a special symbol named a newline character, which urges the console to start a new output line.\\n\""
      ]
     },
     "execution_count": 1,
     "metadata": {},
     "output_type": "execute_result"
    }
   ],
   "source": [
    "print(\"The itsy bitsy spider\\nclimbed up the waterspout.\")\n",
    "print()\n",
    "print(\"Down came the rain\\nand washed the spider out.\")\n",
    "'''\n",
    "The backslash (\\) has a very special meaning when used inside strings ‒ this is called the escape character.\n",
    "\n",
    "The word escape should be understood specifically ‒ it means that the series of characters in the string escapes for the moment (a very short moment) to introduce a special inclusion.\n",
    "\n",
    "In other words, the backslash doesn't mean anything in itself, but is only a kind of announcement, that the next character after the backslash has a different meaning too.\n",
    "\n",
    "The letter n placed after the backslash comes from the word newline.\n",
    "\n",
    "Both the backslash and the n form a special symbol named a newline character, which urges the console to start a new output line.\n",
    "''' "
   ]
  },
  {
   "cell_type": "code",
   "execution_count": null,
   "metadata": {},
   "outputs": [],
   "source": [
    "print(\"My name is\", \"Python.\", end=\" \")\n",
    "print(\"Monty Python.\")\n",
    "\n",
    "\n",
    "'''\n",
    "In order to use it, it is necessary to know some rules:\n",
    "\n",
    "a keyword argument consists of three elements: a keyword identifying the argument (end here); an equal sign (=); and a value assigned to that argument;\n",
    "any keyword arguments have to be put after the last positional argument (this is very important)\n",
    "In our example, we have made use of the end keyword argument, and set it to a string containing one space.\n",
    "\n",
    "Run the code to see how it works.\n",
    "'''"
   ]
  },
  {
   "cell_type": "code",
   "execution_count": null,
   "metadata": {},
   "outputs": [],
   "source": [
    "print(\"My name is \", end=\"\")\n",
    "print(\"Monty Python.\")\n",
    "\n",
    "'''\n",
    "As the end argument has been set to nothing, the print() function outputs nothing too, once its positional arguments have been exhausted.\n",
    "Note: no newlines have been sent to the output.\n",
    "\n",
    "The string assigned to the end keyword argument can be of any length\n",
    "'''"
   ]
  },
  {
   "cell_type": "code",
   "execution_count": null,
   "metadata": {},
   "outputs": [],
   "source": [
    "print(\"My\", \"name\", \"is\", \"Monty\", \"Python.\", sep=\"-\")\n",
    "\n",
    "'''\n",
    "The sep argument delivers the following results:\n",
    "\n",
    "My-name-is-Monty-Python.\n",
    "\n",
    "The print() function now uses a dash, instead of a space, to separate the outputted arguments.\n",
    "\n",
    "Note: the sep argument's value may be an empty string, too.\n",
    "'''"
   ]
  },
  {
   "cell_type": "code",
   "execution_count": null,
   "metadata": {},
   "outputs": [],
   "source": [
    "print(\"My\", \"name\", \"is\", sep=\"_\", end=\"*\")\n",
    "print(\"Monty\", \"Python.\", sep=\"*\", end=\"*\\n\")\n",
    "\n"
   ]
  },
  {
   "cell_type": "code",
   "execution_count": null,
   "metadata": {},
   "outputs": [],
   "source": [
    "'''\n",
    "Write a one-line piece of code, using the print() function, as well as the newline and escape characters, to match the expected result outputted on three lines.\n",
    "\"I'm\"\n",
    "\"\"learning\"\"\n",
    "\"\"\"Python\"\"\"\n",
    "'''\n",
    "print('\\\"I\\'m\\\" \\n\"\\\"learning\\\"\\\" \\n\"\\\"\\\"Python\\\"\\\"\\\"')"
   ]
  },
  {
   "cell_type": "markdown",
   "metadata": {},
   "source": [
    "# section summary\n",
    "1. An expression is a combination of values (or variables, operators, calls to functions ‒ you will learn about them soon) which evaluates to a certain value, e.g., 1 + 2.\n",
    "\n",
    "2. Operators are special symbols or keywords which are able to operate on the values and perform (mathematical) operations, e.g., the * operator multiplies two values: x * y.\n",
    "\n",
    "3. Arithmetic operators in Python: + (addition), - (subtraction), * (multiplication), / (classic division ‒ always returns a float), % (modulus ‒ divides left operand by right operand and returns the remainder of the operation, e.g., 5 % 2 = 1), ** (exponentiation ‒ left operand raised to the power of right operand, e.g., 2 ** 3 = 2 * 2 * 2 = 8), // (floor/integer division ‒ returns a number resulting from division, but rounded down to the nearest whole number, e.g., 3 // 2.0 = 1.0)\n",
    "\n",
    "4. A unary operator is an operator with only one operand, e.g., -1, or +3.\n",
    "\n",
    "5. A binary operator is an operator with two operands, e.g., 4 + 5, or 12 % 5.\n",
    "\n",
    "6. Some operators act before others - the hierarchy of priorities:\n",
    "\n",
    "the ** operator (exponentiation) has the highest priority;\n",
    "then the unary + and - (note: a unary operator to the right of the exponentiation operator binds more strongly, for example 4 ** -1 equals 0.25)\n",
    "then: *, /, and %,\n",
    "and finally, the lowest priority: binary + and -.\n",
    "7. Subexpressions in parentheses are always calculated first, e.g., 15 - 1 * (5 * (1 + 2)) = 0.\n",
    "\n",
    "8. The exponentiation operator uses right-sided binding, e.g., 2 ** 2 ** 3 = 256."
   ]
  },
  {
   "cell_type": "code",
   "execution_count": 2,
   "metadata": {},
   "outputs": [
    {
     "name": "stdout",
     "output_type": "stream",
     "text": [
      "16 8.0 8\n"
     ]
    }
   ],
   "source": [
    "print((2 ** 4), (2 * 4.), (2 * 4))"
   ]
  },
  {
   "cell_type": "code",
   "execution_count": 3,
   "metadata": {},
   "outputs": [
    {
     "name": "stdout",
     "output_type": "stream",
     "text": [
      "-0.5 0.5 0 -1\n"
     ]
    }
   ],
   "source": [
    "print((-2 / 4), (2 / 4), (2 // 4), (-2 // 4))"
   ]
  },
  {
   "cell_type": "code",
   "execution_count": 4,
   "metadata": {},
   "outputs": [
    {
     "name": "stdout",
     "output_type": "stream",
     "text": [
      "-2 2 512\n"
     ]
    }
   ],
   "source": [
    "print((2 % -4), (2 % 4), (2 ** 3 ** 2))"
   ]
  },
  {
   "cell_type": "markdown",
   "metadata": {},
   "source": [
    "# How to use a variable"
   ]
  },
  {
   "cell_type": "code",
   "execution_count": 5,
   "metadata": {},
   "outputs": [
    {
     "name": "stdout",
     "output_type": "stream",
     "text": [
      "1 1000.0 John Doe\n",
      "1\n"
     ]
    }
   ],
   "source": [
    "var = 1\n",
    "account_balance = 1000.0\n",
    "client_name = 'John Doe'\n",
    "print(var, account_balance, client_name)\n",
    "print(var)"
   ]
  },
  {
   "cell_type": "markdown",
   "metadata": {},
   "source": [
    "# Solving simple mathematical probles"
   ]
  },
  {
   "cell_type": "code",
   "execution_count": 6,
   "metadata": {},
   "outputs": [
    {
     "name": "stdout",
     "output_type": "stream",
     "text": [
      "c = 5.0\n"
     ]
    }
   ],
   "source": [
    "a = 3.0\n",
    "b = 4.0\n",
    "c = (a ** 2 + b ** 2) ** 0.5\n",
    "print(\"c =\", c)"
   ]
  },
  {
   "cell_type": "markdown",
   "metadata": {},
   "source": [
    "Scenario\n",
    "Miles and kilometers are units of length or distance.\n",
    "\n",
    "Bearing in mind that 1 mile is equal to approximately 1.61 kilometers, complete the program in the editor so that it converts:\n",
    "\n",
    "miles to kilometers;\n",
    "kilometers to miles.\n",
    "Do not change anything in the existing code. Write your code in the places indicated by ###. Test your program with the data we've provided in the source code.\n",
    "\n",
    "Pay particular attention to what is going on inside the print() function. Analyze how we provide multiple arguments to the function, and how we output the expected data.\n",
    "\n",
    "Note that some of the arguments inside the print() function are strings (e.g., \"miles is\", whereas some other are variables (e.g., miles).\n",
    "\n",
    "  Tip  \n",
    "There's one more interesting thing happening there. Can you see another function inside the print() function? It's the round() function. Its job is to round the outputted result to the number of decimal places specified in the parentheses, and return a float (inside the round() function you can find the variable name, a comma, and the number of decimal places we're aiming for). We're going to talk about functions very soon, so don't worry that everything may not be fully clear yet. We just want to spark your curiosity.\n",
    "\n",
    "After completing the lab, open the Sandbox, and experiment some more. Try to write different converters, e.g., a USD to EUR converter, a temperature converter, etc. ‒ let your imagination fly! Try to output the results by combining strings and variables. Try to use and experiment with the round() function to round your results to one, two, or three decimal places. Check out what happens if you don't provide any number of digits. Remember to test your programs."
   ]
  },
  {
   "cell_type": "code",
   "execution_count": 7,
   "metadata": {},
   "outputs": [
    {
     "name": "stdout",
     "output_type": "stream",
     "text": [
      "7.38 miles is 11.88 kilometers\n",
      "12.25 kilometers is 7.61 miles\n"
     ]
    }
   ],
   "source": [
    "kilometers = 12.25\n",
    "miles = 7.38\n",
    "\n",
    "miles_to_kilometers = miles * 1.61\n",
    "kilometers_to_miles = kilometers / 1.61\n",
    "\n",
    "print(miles, \"miles is\", round(miles_to_kilometers, 2), \"kilometers\")\n",
    "print(kilometers, \"kilometers is\", round(kilometers_to_miles, 2), \"miles\")"
   ]
  },
  {
   "cell_type": "code",
   "execution_count": 9,
   "metadata": {},
   "outputs": [
    {
     "name": "stdout",
     "output_type": "stream",
     "text": [
      "1.0\n"
     ]
    }
   ],
   "source": [
    "a = 6\n",
    "b = 3\n",
    "a /= 2 * b\n",
    "print(a)"
   ]
  },
  {
   "cell_type": "markdown",
   "metadata": {},
   "source": [
    "# The input() function\n",
    "\n",
    "We're now going to introduce you to a completely new function, which seems to be a mirror reflection of the good old print() function.\n",
    "\n",
    "Why? Well, print() sends data to the console.\n",
    "\n",
    "The new function gets data from it.\n",
    "\n",
    "print() has no usable result. The meaning of the new function is to return a very usable result.\n",
    "\n",
    "The function is named input(). The name of the function says everything.\n",
    "\n",
    "The input() function is able to read data entered by the user and to return the same data to the running program.\n",
    "\n",
    "The program can manipulate the data, making the code truly interactive.\n",
    "\n",
    "Virtually all programs read and process data. A program which doesn't get a user's input is a deaf program."
   ]
  },
  {
   "cell_type": "code",
   "execution_count": 10,
   "metadata": {},
   "outputs": [
    {
     "name": "stdout",
     "output_type": "stream",
     "text": [
      "Tell me anything...\n",
      "Hmm... anything ... Really?\n"
     ]
    }
   ],
   "source": [
    "print(\"Tell me anything...\")\n",
    "anything = input()\n",
    "print(\"Hmm...\", anything, \"... Really?\")"
   ]
  },
  {
   "cell_type": "markdown",
   "metadata": {},
   "source": [
    "# The input() function with an argument\n",
    "The input() function can do something else: it can prompt the user without any help from print()."
   ]
  },
  {
   "cell_type": "code",
   "execution_count": 11,
   "metadata": {},
   "outputs": [
    {
     "name": "stdout",
     "output_type": "stream",
     "text": [
      "Hmm... something ...Really?\n"
     ]
    }
   ],
   "source": [
    "anything = input(\"Tell me anything...\")\n",
    "print(\"Hmm...\", anything, \"...Really?\")"
   ]
  },
  {
   "cell_type": "code",
   "execution_count": 22,
   "metadata": {},
   "outputs": [
    {
     "name": "stdout",
     "output_type": "stream",
     "text": [
      "6\n"
     ]
    }
   ],
   "source": [
    "x = int(input())\n",
    "y = int(input())\n",
    " \n",
    "print(x + y)"
   ]
  }
 ],
 "metadata": {
  "kernelspec": {
   "display_name": "Python 3",
   "language": "python",
   "name": "python3"
  },
  "language_info": {
   "codemirror_mode": {
    "name": "ipython",
    "version": 3
   },
   "file_extension": ".py",
   "mimetype": "text/x-python",
   "name": "python",
   "nbconvert_exporter": "python",
   "pygments_lexer": "ipython3",
   "version": "3.12.0"
  }
 },
 "nbformat": 4,
 "nbformat_minor": 2
}
