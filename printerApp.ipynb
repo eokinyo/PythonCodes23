{
 "cells": [
  {
   "cell_type": "code",
   "execution_count": null,
   "metadata": {},
   "outputs": [],
   "source": [
    "# 1. Create a new Interactive Python Notebook.\n",
    "# 2. Print “Printer App”.\n",
    "print(\"Printer App\")"
   ]
  },
  {
   "cell_type": "markdown",
   "metadata": {},
   "source": [
    "# Declaration of variables"
   ]
  },
  {
   "cell_type": "code",
   "execution_count": null,
   "metadata": {},
   "outputs": [],
   "source": [
    "# Variable lists\n",
    "creator = \"Elly\"\n",
    "number1 = 23\n",
    "number2 = 34\n",
    "multiplication = number1 * number2\n",
    "addition = number1 + number2\n",
    "division = number1 / number2\n",
    "\n",
    "subtraction = number1 - number2\n",
    "\n"
   ]
  },
  {
   "cell_type": "markdown",
   "metadata": {},
   "source": [
    "# Lines of command"
   ]
  },
  {
   "cell_type": "code",
   "execution_count": null,
   "metadata": {},
   "outputs": [],
   "source": [
    "# 3. Print “This app is made by:”\n",
    "print(\"This app is made by: \")\n",
    "\n",
    "# 4. Declare a string typed variable. Name it creator. Assign your name as the value of the creator variable.\n",
    "\n",
    "\n",
    "# 5. Print the value of the creator. Try to get it on a same line as “This app is made by:”.\n",
    "print(creator)\n",
    "\n",
    "print(\"This app is made by: \" + creator + \".\")\n"
   ]
  },
  {
   "cell_type": "code",
   "execution_count": null,
   "metadata": {},
   "outputs": [],
   "source": [
    "# 6. Declare two numeric variables (for example integers). Name them as number1 and number2. Assign some values to the variables\n"
   ]
  },
  {
   "cell_type": "code",
   "execution_count": null,
   "metadata": {},
   "outputs": [],
   "source": [
    "# 7. First, try to print the value of number1. When done, comment the line.\n",
    "print(number1) #This prints the value assigned to the variable number1."
   ]
  },
  {
   "cell_type": "code",
   "execution_count": null,
   "metadata": {},
   "outputs": [],
   "source": [
    "# 8. Print “The value of number1 is 5”. Of course 5 may be different depending what value you assigned for number1. Make sure everything works: change the value of number1 and then make sure the printing changes also. For example, if you changed it to 10, the printing should be “The value of number1 is 10”.\n",
    "print(number1)\n",
    "print(\"The value of number1 is \", number1)"
   ]
  },
  {
   "cell_type": "code",
   "execution_count": null,
   "metadata": {},
   "outputs": [],
   "source": [
    "# 9. Print “The value of number2 is 3”.\n",
    "print(\"The value of number2 is \", number2)"
   ]
  },
  {
   "cell_type": "code",
   "execution_count": null,
   "metadata": {},
   "outputs": [],
   "source": [
    "# 10. Declare integer typed variable called multiplication\n",
    "# 11. Multiply number1 and number2 and assign the result to the multiplication variable.\n",
    "\n",
    "\n",
    "# 12. Print “5 * 2 = 10”, if your number1 was 5 and number2 2. Notice the spaces. Make sure everything works: Change the values of number1 and number2. The printing should change also.\n",
    "print(number1, \" * \", number2, \" = \", multiplication)\n"
   ]
  },
  {
   "cell_type": "code",
   "execution_count": null,
   "metadata": {},
   "outputs": [],
   "source": [
    "# 13. Repeat 10-12 for addition, division and substraction. Notice that to make division work right, you may have to change integer types to double.\n",
    "\n",
    "print(number1, \" + \", number2, \" = \", addition)\n",
    "\n",
    "\n",
    "print(number1, \" / \", number2, \" = \", division)\n",
    "print(type(division))\n",
    "\n",
    "\n",
    "print(number1, \" + \", number2, \" = \", subtraction)"
   ]
  }
 ],
 "metadata": {
  "kernelspec": {
   "display_name": "Python 3",
   "language": "python",
   "name": "python3"
  },
  "language_info": {
   "codemirror_mode": {
    "name": "ipython",
    "version": 3
   },
   "file_extension": ".py",
   "mimetype": "text/x-python",
   "name": "python",
   "nbconvert_exporter": "python",
   "pygments_lexer": "ipython3",
   "version": "3.12.0"
  }
 },
 "nbformat": 4,
 "nbformat_minor": 2
}
